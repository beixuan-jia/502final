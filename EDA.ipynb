{
 "cells": [
  {
   "cell_type": "code",
   "execution_count": 1,
   "metadata": {},
   "outputs": [],
   "source": [
    "import findspark\n",
    "findspark.init()\n",
    "from pyspark.sql import SparkSession"
   ]
  },
  {
   "cell_type": "code",
   "execution_count": 2,
   "metadata": {},
   "outputs": [],
   "source": [
    "spark = SparkSession.builder.getOrCreate()"
   ]
  },
  {
   "cell_type": "code",
   "execution_count": 3,
   "metadata": {},
   "outputs": [
    {
     "data": {
      "text/html": [
       "\n",
       "            <div>\n",
       "                <p><b>SparkSession - in-memory</b></p>\n",
       "                \n",
       "        <div>\n",
       "            <p><b>SparkContext</b></p>\n",
       "\n",
       "            <p><a href=\"http://ip-172-31-57-145.ec2.internal:4040\">Spark UI</a></p>\n",
       "\n",
       "            <dl>\n",
       "              <dt>Version</dt>\n",
       "                <dd><code>v2.4.4</code></dd>\n",
       "              <dt>Master</dt>\n",
       "                <dd><code>yarn</code></dd>\n",
       "              <dt>AppName</dt>\n",
       "                <dd><code>pyspark-shell</code></dd>\n",
       "            </dl>\n",
       "        </div>\n",
       "        \n",
       "            </div>\n",
       "        "
      ],
      "text/plain": [
       "<pyspark.sql.session.SparkSession at 0x7f74a4c1ff50>"
      ]
     },
     "execution_count": 3,
     "metadata": {},
     "output_type": "execute_result"
    }
   ],
   "source": [
    "spark"
   ]
  },
  {
   "cell_type": "code",
   "execution_count": 4,
   "metadata": {},
   "outputs": [],
   "source": [
    "mydf = spark.read.parquet(\"s3://zandras3/502final/df.parquet/*\")"
   ]
  },
  {
   "cell_type": "code",
   "execution_count": 5,
   "metadata": {},
   "outputs": [
    {
     "name": "stdout",
     "output_type": "stream",
     "text": [
      "root\n",
      " |-- GLOBALEVENTID: string (nullable = true)\n",
      " |-- SQLDATE: string (nullable = true)\n",
      " |-- MonthYear: string (nullable = true)\n",
      " |-- Year: string (nullable = true)\n",
      " |-- FractionDate: string (nullable = true)\n",
      " |-- Actor1Code: string (nullable = true)\n",
      " |-- Actor1Name: string (nullable = true)\n",
      " |-- Actor1CountryCode: string (nullable = true)\n",
      " |-- Actor1KnownGroupCode: string (nullable = true)\n",
      " |-- Actor1EthnicCode: string (nullable = true)\n",
      " |-- Actor1Religion1Code: string (nullable = true)\n",
      " |-- Actor1Religion2Code: string (nullable = true)\n",
      " |-- Actor1Type1Code: string (nullable = true)\n",
      " |-- Actor1Type2Code: string (nullable = true)\n",
      " |-- Actor1Type3Code: string (nullable = true)\n",
      " |-- Actor2Code: string (nullable = true)\n",
      " |-- Actor2Name: string (nullable = true)\n",
      " |-- Actor2CountryCode: string (nullable = true)\n",
      " |-- Actor2KnownGroupCode: string (nullable = true)\n",
      " |-- Actor2EthnicCode: string (nullable = true)\n",
      " |-- Actor2Religion1Code: string (nullable = true)\n",
      " |-- Actor2Religion2Code: string (nullable = true)\n",
      " |-- Actor2Type1Code: string (nullable = true)\n",
      " |-- Actor2Type2Code: string (nullable = true)\n",
      " |-- Actor2Type3Code: string (nullable = true)\n",
      " |-- IsRootEvent: string (nullable = true)\n",
      " |-- EventCode: string (nullable = true)\n",
      " |-- EventBaseCode: string (nullable = true)\n",
      " |-- EventRootCode: string (nullable = true)\n",
      " |-- QuadClass: string (nullable = true)\n",
      " |-- GoldsteinScale: string (nullable = true)\n",
      " |-- NumMentions: string (nullable = true)\n",
      " |-- NumSources: string (nullable = true)\n",
      " |-- NumArticles: string (nullable = true)\n",
      " |-- AvgTone: string (nullable = true)\n",
      " |-- Actor1Geo_Type: string (nullable = true)\n",
      " |-- Actor1Geo_FullName: string (nullable = true)\n",
      " |-- Actor1Geo_CountryCode: string (nullable = true)\n",
      " |-- Actor1Geo_ADM1Code: string (nullable = true)\n",
      " |-- Actor1Geo_Lat: string (nullable = true)\n",
      " |-- Actor1Geo_Long: string (nullable = true)\n",
      " |-- Actor1Geo_FeatureID: string (nullable = true)\n",
      " |-- Actor2Geo_Type: string (nullable = true)\n",
      " |-- Actor2Geo_FullName: string (nullable = true)\n",
      " |-- Actor2Geo_CountryCode: string (nullable = true)\n",
      " |-- Actor2Geo_ADM1Code: string (nullable = true)\n",
      " |-- Actor2Geo_Lat: string (nullable = true)\n",
      " |-- Actor2Geo_Long: string (nullable = true)\n",
      " |-- Actor2Geo_FeatureID: string (nullable = true)\n",
      " |-- ActionGeo_Type: string (nullable = true)\n",
      " |-- ActionGeo_FullName: string (nullable = true)\n",
      " |-- ActionGeo_CountryCode: string (nullable = true)\n",
      " |-- ActionGeo_ADM1Code: string (nullable = true)\n",
      " |-- ActionGeo_Lat: string (nullable = true)\n",
      " |-- ActionGeo_Long: string (nullable = true)\n",
      " |-- ActionGeo_FeatureID: string (nullable = true)\n",
      " |-- DATEADDED: string (nullable = true)\n",
      " |-- SOURCEURL: string (nullable = true)\n",
      "\n"
     ]
    }
   ],
   "source": [
    "mydf.printSchema()"
   ]
  },
  {
   "cell_type": "code",
   "execution_count": 6,
   "metadata": {},
   "outputs": [
    {
     "name": "stdout",
     "output_type": "stream",
     "text": [
      "+-------------+--------+---------+----+------------+----------+----------+-----------------+--------------------+----------------+-------------------+-------------------+---------------+---------------+---------------+----------+------------+-----------------+--------------------+----------------+-------------------+-------------------+---------------+---------------+---------------+-----------+---------+-------------+-------------+---------+--------------+-----------+----------+-----------+-----------------+--------------+------------------+---------------------+------------------+-------------+--------------+-------------------+--------------+--------------------+---------------------+------------------+-------------+--------------+-------------------+--------------+--------------------+---------------------+------------------+-------------+--------------+-------------------+---------+--------------------+\n",
      "|GLOBALEVENTID| SQLDATE|MonthYear|Year|FractionDate|Actor1Code|Actor1Name|Actor1CountryCode|Actor1KnownGroupCode|Actor1EthnicCode|Actor1Religion1Code|Actor1Religion2Code|Actor1Type1Code|Actor1Type2Code|Actor1Type3Code|Actor2Code|  Actor2Name|Actor2CountryCode|Actor2KnownGroupCode|Actor2EthnicCode|Actor2Religion1Code|Actor2Religion2Code|Actor2Type1Code|Actor2Type2Code|Actor2Type3Code|IsRootEvent|EventCode|EventBaseCode|EventRootCode|QuadClass|GoldsteinScale|NumMentions|NumSources|NumArticles|          AvgTone|Actor1Geo_Type|Actor1Geo_FullName|Actor1Geo_CountryCode|Actor1Geo_ADM1Code|Actor1Geo_Lat|Actor1Geo_Long|Actor1Geo_FeatureID|Actor2Geo_Type|  Actor2Geo_FullName|Actor2Geo_CountryCode|Actor2Geo_ADM1Code|Actor2Geo_Lat|Actor2Geo_Long|Actor2Geo_FeatureID|ActionGeo_Type|  ActionGeo_FullName|ActionGeo_CountryCode|ActionGeo_ADM1Code|ActionGeo_Lat|ActionGeo_Long|ActionGeo_FeatureID|DATEADDED|           SOURCEURL|\n",
      "+-------------+--------+---------+----+------------+----------+----------+-----------------+--------------------+----------------+-------------------+-------------------+---------------+---------------+---------------+----------+------------+-----------------+--------------------+----------------+-------------------+-------------------+---------------+---------------+---------------+-----------+---------+-------------+-------------+---------+--------------+-----------+----------+-----------+-----------------+--------------+------------------+---------------------+------------------+-------------+--------------+-------------------+--------------+--------------------+---------------------+------------------+-------------+--------------+-------------------+--------------+--------------------+---------------------+------------------+-------------+--------------+-------------------+---------+--------------------+\n",
      "|    611051912|20151224|   201512|2015|   2015.9699|          |          |                 |                    |                |                   |                   |               |               |               |       BUS|    BUSINESS|                 |                    |                |                   |                   |            BUS|               |               |          1|      042|          042|           04|        1|           1.9|         10|         1|         10| 0.70257611241218|             0|                  |                     |                  |             |              |                   |             4|Tanjung, Pahang, ...|                   MY|              MY06|      3.81667|       103.342|              94819|             4|Tanjung, Pahang, ...|                   MY|              MY06|      3.81667|       103.342|              94819| 20161223|http://www.thesta...|\n",
      "|    611051913|20151224|   201512|2015|   2015.9699|          |          |                 |                    |                |                   |                   |               |               |               |       GOV|     EMPEROR|                 |                    |                |                   |                   |            GOV|               |               |          0|      010|          010|           01|        1|           0.0|          6|         1|          6|-0.73937153419593|             0|                  |                     |                  |             |              |                   |             4| Tokyo, Tokyo, Japan|                   JA|              JA40|       35.685|       139.751|            -246227|             5| Iwate, Iwate, Japan|                   JA|              JA16|       39.596|        141.36|            -231099| 20161223|http://asia.nikke...|\n",
      "|    611051914|20151224|   201512|2015|   2015.9699|          |          |                 |                    |                |                   |                   |               |               |               |       GOV|     EMPEROR|                 |                    |                |                   |                   |            GOV|               |               |          0|      010|          010|           01|        1|           0.0|          2|         1|          2|-0.73937153419593|             0|                  |                     |                  |             |              |                   |             1|            Thailand|                   TH|                TH|           15|           100|                 TH|             4| Tokyo, Tokyo, Japan|                   JA|              JA40|       35.685|       139.751|            -246227| 20161223|http://asia.nikke...|\n",
      "|    611051915|20151224|   201512|2015|   2015.9699|          |          |                 |                    |                |                   |                   |               |               |               |       GOV|     EMPEROR|                 |                    |                |                   |                   |            GOV|               |               |          0|      042|          042|           04|        1|           1.9|          2|         1|          2|-0.73937153419593|             0|                  |                     |                  |             |              |                   |             1|            Thailand|                   TH|                TH|           15|           100|                 TH|             1|            Thailand|                   TH|                TH|           15|           100|                 TH| 20161223|http://asia.nikke...|\n",
      "|    611051916|20151224|   201512|2015|   2015.9699|          |          |                 |                    |                |                   |                   |               |               |               |       MYS|KUALA LUMPUR|              MYS|                    |                |                   |                   |               |               |               |          1|      043|          043|           04|        1|           2.8|          2|         1|          2| 0.70257611241218|             0|                  |                     |                  |             |              |                   |             4|Kuala Lumpur, Kua...|                   MY|              MY14|      3.16667|         101.7|           -2403010|             4|Tanjung, Pahang, ...|                   MY|              MY06|      3.81667|       103.342|              94819| 20161223|http://www.thesta...|\n",
      "+-------------+--------+---------+----+------------+----------+----------+-----------------+--------------------+----------------+-------------------+-------------------+---------------+---------------+---------------+----------+------------+-----------------+--------------------+----------------+-------------------+-------------------+---------------+---------------+---------------+-----------+---------+-------------+-------------+---------+--------------+-----------+----------+-----------+-----------------+--------------+------------------+---------------------+------------------+-------------+--------------+-------------------+--------------+--------------------+---------------------+------------------+-------------+--------------+-------------------+--------------+--------------------+---------------------+------------------+-------------+--------------+-------------------+---------+--------------------+\n",
      "only showing top 5 rows\n",
      "\n"
     ]
    }
   ],
   "source": [
    "mydf.show(5)"
   ]
  },
  {
   "cell_type": "code",
   "execution_count": 6,
   "metadata": {},
   "outputs": [],
   "source": [
    "df_feat = mydf.select(mydf.SQLDATE, mydf.MonthYear, mydf.Year, \n",
    "                      mydf.Actor1Code, mydf.Actor1Name,mydf.Actor1CountryCode,\n",
    "                      mydf.Actor2Code, mydf.Actor2Name, mydf.Actor2CountryCode, \n",
    "                      mydf.QuadClass, mydf.GoldsteinScale, mydf.NumSources, \n",
    "                      mydf.AvgTone, mydf.Actor1Geo_Type, mydf.Actor1Geo_CountryCode,\n",
    "                     mydf.Actor1Geo_Lat, mydf.Actor1Geo_Long, mydf.Actor2Geo_Type, \n",
    "                      mydf.Actor2Geo_CountryCode, mydf.Actor2Geo_Lat, mydf.Actor2Geo_Long,\n",
    "                     mydf.ActionGeo_Type, mydf.ActionGeo_CountryCode,\n",
    "                     mydf.ActionGeo_Lat, mydf.ActionGeo_Long, mydf.SOURCEURL)"
   ]
  },
  {
   "cell_type": "code",
   "execution_count": 7,
   "metadata": {},
   "outputs": [
    {
     "name": "stdout",
     "output_type": "stream",
     "text": [
      "root\n",
      " |-- SQLDATE: string (nullable = true)\n",
      " |-- MonthYear: string (nullable = true)\n",
      " |-- Year: string (nullable = true)\n",
      " |-- Actor1Code: string (nullable = true)\n",
      " |-- Actor1Name: string (nullable = true)\n",
      " |-- Actor1CountryCode: string (nullable = true)\n",
      " |-- Actor2Code: string (nullable = true)\n",
      " |-- Actor2Name: string (nullable = true)\n",
      " |-- Actor2CountryCode: string (nullable = true)\n",
      " |-- QuadClass: string (nullable = true)\n",
      " |-- GoldsteinScale: string (nullable = true)\n",
      " |-- NumSources: string (nullable = true)\n",
      " |-- AvgTone: string (nullable = true)\n",
      " |-- Actor1Geo_Type: string (nullable = true)\n",
      " |-- Actor1Geo_CountryCode: string (nullable = true)\n",
      " |-- Actor1Geo_Lat: string (nullable = true)\n",
      " |-- Actor1Geo_Long: string (nullable = true)\n",
      " |-- Actor2Geo_Type: string (nullable = true)\n",
      " |-- Actor2Geo_CountryCode: string (nullable = true)\n",
      " |-- Actor2Geo_Lat: string (nullable = true)\n",
      " |-- Actor2Geo_Long: string (nullable = true)\n",
      " |-- ActionGeo_Type: string (nullable = true)\n",
      " |-- ActionGeo_CountryCode: string (nullable = true)\n",
      " |-- ActionGeo_Lat: string (nullable = true)\n",
      " |-- ActionGeo_Long: string (nullable = true)\n",
      " |-- SOURCEURL: string (nullable = true)\n",
      "\n"
     ]
    }
   ],
   "source": [
    "df_feat.printSchema()"
   ]
  },
  {
   "cell_type": "code",
   "execution_count": 9,
   "metadata": {},
   "outputs": [
    {
     "name": "stdout",
     "output_type": "stream",
     "text": [
      "+--------+---------+----+----------+------------+-----------------+---------+--------------+----------+-----------------+--------------+---------------------+-------------+--------------+--------------+---------------------+-------------+--------------+--------------+---------------------+-------------+--------------+\n",
      "| SQLDATE|MonthYear|Year|Actor2Code|  Actor2Name|Actor2CountryCode|QuadClass|GoldsteinScale|NumSources|          AvgTone|Actor1Geo_Type|Actor1Geo_CountryCode|Actor1Geo_Lat|Actor1Geo_Long|Actor2Geo_Type|Actor2Geo_CountryCode|Actor2Geo_Lat|Actor2Geo_Long|ActionGeo_Type|ActionGeo_CountryCode|ActionGeo_Lat|ActionGeo_Long|\n",
      "+--------+---------+----+----------+------------+-----------------+---------+--------------+----------+-----------------+--------------+---------------------+-------------+--------------+--------------+---------------------+-------------+--------------+--------------+---------------------+-------------+--------------+\n",
      "|20151224|   201512|2015|       BUS|    BUSINESS|                 |        1|           1.9|         1| 0.70257611241218|             0|                     |             |              |             4|                   MY|      3.81667|       103.342|             4|                   MY|      3.81667|       103.342|\n",
      "|20151224|   201512|2015|       GOV|     EMPEROR|                 |        1|           0.0|         1|-0.73937153419593|             0|                     |             |              |             4|                   JA|       35.685|       139.751|             5|                   JA|       39.596|        141.36|\n",
      "|20151224|   201512|2015|       GOV|     EMPEROR|                 |        1|           0.0|         1|-0.73937153419593|             0|                     |             |              |             1|                   TH|           15|           100|             4|                   JA|       35.685|       139.751|\n",
      "|20151224|   201512|2015|       GOV|     EMPEROR|                 |        1|           1.9|         1|-0.73937153419593|             0|                     |             |              |             1|                   TH|           15|           100|             1|                   TH|           15|           100|\n",
      "|20151224|   201512|2015|       MYS|KUALA LUMPUR|              MYS|        1|           2.8|         1| 0.70257611241218|             0|                     |             |              |             4|                   MY|      3.16667|         101.7|             4|                   MY|      3.81667|       103.342|\n",
      "|20151224|   201512|2015|       VNM|     VIETNAM|              VNM|        1|           4.0|         1|-0.73937153419593|             0|                     |             |              |             4|                   JA|       35.685|       139.751|             4|                   JA|       35.685|       139.751|\n",
      "|20151224|   201512|2015|          |            |                 |        1|           2.8|         1| 0.70257611241218|             4|                   MY|      3.16667|         101.7|             0|                     |             |              |             4|                   MY|      3.16667|         101.7|\n",
      "|20151224|   201512|2015|          |            |                 |        4|          -5.0|         1|-2.13114754098361|             4|                   KS|      37.6501|        127.77|             0|                     |             |              |             4|                   KS|      37.6501|        127.77|\n",
      "|20151224|   201512|2015|       KOR| SOUTH KOREA|              KOR|        4|          -5.0|         1|-2.13114754098361|             4|                   KS|      37.6501|        127.77|             4|                   KS|      37.6501|        127.77|             4|                   KS|      37.6501|        127.77|\n",
      "|20151224|   201512|2015|    MNCKOR|     SAMSUNG|              KOR|        4|          -5.0|         1|-2.13114754098361|             4|                   KS|      37.6501|        127.77|             4|                   KS|      37.6501|        127.77|             4|                   KS|      37.6501|        127.77|\n",
      "|20151224|   201512|2015|       CHR|   CHRISTIAN|                 |        1|           0.0|        18|-3.47394540942928|             4|                   IT|         41.9|       12.4833|             4|                   IT|         41.9|       12.4833|             4|                   IT|         41.9|       12.4833|\n",
      "|20151224|   201512|2015|       USA|   LAS VEGAS|              USA|        1|           0.0|        96|-7.40210103503494|             0|                     |             |              |             0|                     |             |              |             0|                     |             |              |\n",
      "|20151224|   201512|2015|          |            |                 |        3|          -7.0|        13|-6.59469154203185|             4|                   GM|      52.5167|          13.4|             0|                     |             |              |             1|                   TS|           34|             9|\n",
      "|20151224|   201512|2015|       USA|     WYOMING|              USA|        3|          -4.0|        17|-2.22928472610392|             2|                   US|      42.7475|      -107.209|             2|                   US|      42.7475|      -107.209|             2|                   US|      42.7475|      -107.209|\n",
      "|20151224|   201512|2015|          |            |                 |        1|           4.0|         1|  3.3175355450237|             4|                   UK|         51.5|     -0.116667|             0|                     |             |              |             4|                   UK|      51.5333|     -0.083333|\n",
      "+--------+---------+----+----------+------------+-----------------+---------+--------------+----------+-----------------+--------------+---------------------+-------------+--------------+--------------+---------------------+-------------+--------------+--------------+---------------------+-------------+--------------+\n",
      "only showing top 15 rows\n",
      "\n"
     ]
    }
   ],
   "source": [
    "df_feat.show(15)"
   ]
  },
  {
   "cell_type": "markdown",
   "metadata": {},
   "source": [
    "### Sentiment Analysis"
   ]
  },
  {
   "cell_type": "code",
   "execution_count": 8,
   "metadata": {},
   "outputs": [],
   "source": [
    "from pyspark.sql.functions import avg"
   ]
  },
  {
   "cell_type": "code",
   "execution_count": 13,
   "metadata": {},
   "outputs": [],
   "source": [
    "tone = df_feat.select(\"Year\",\"AvgTone\").groupBy(\"Year\").agg(avg(\"AvgTone\"))"
   ]
  },
  {
   "cell_type": "code",
   "execution_count": 14,
   "metadata": {},
   "outputs": [
    {
     "data": {
      "text/plain": [
       "[Row(Year='2016', avg(AvgTone)=-2.092142628981268),\n",
       " Row(Year='2006', avg(AvgTone)=-1.5654240261469206),\n",
       " Row(Year='2007', avg(AvgTone)=-1.4407238930749484),\n",
       " Row(Year='2015', avg(AvgTone)=-2.121795877376201)]"
      ]
     },
     "execution_count": 14,
     "metadata": {},
     "output_type": "execute_result"
    }
   ],
   "source": [
    "tone.head(10)"
   ]
  },
  {
   "cell_type": "code",
   "execution_count": 23,
   "metadata": {},
   "outputs": [],
   "source": [
    "tones_pd = tone.toPandas()"
   ]
  },
  {
   "cell_type": "markdown",
   "metadata": {},
   "source": [
    "Average tone analysis for each year in the dataset:"
   ]
  },
  {
   "cell_type": "code",
   "execution_count": 24,
   "metadata": {},
   "outputs": [
    {
     "data": {
      "text/html": [
       "<div>\n",
       "<style scoped>\n",
       "    .dataframe tbody tr th:only-of-type {\n",
       "        vertical-align: middle;\n",
       "    }\n",
       "\n",
       "    .dataframe tbody tr th {\n",
       "        vertical-align: top;\n",
       "    }\n",
       "\n",
       "    .dataframe thead th {\n",
       "        text-align: right;\n",
       "    }\n",
       "</style>\n",
       "<table border=\"1\" class=\"dataframe\">\n",
       "  <thead>\n",
       "    <tr style=\"text-align: right;\">\n",
       "      <th></th>\n",
       "      <th>Year</th>\n",
       "      <th>avg(AvgTone)</th>\n",
       "    </tr>\n",
       "  </thead>\n",
       "  <tbody>\n",
       "    <tr>\n",
       "      <th>0</th>\n",
       "      <td>2016</td>\n",
       "      <td>-2.092143</td>\n",
       "    </tr>\n",
       "    <tr>\n",
       "      <th>1</th>\n",
       "      <td>2006</td>\n",
       "      <td>-1.565424</td>\n",
       "    </tr>\n",
       "    <tr>\n",
       "      <th>2</th>\n",
       "      <td>2007</td>\n",
       "      <td>-1.440724</td>\n",
       "    </tr>\n",
       "    <tr>\n",
       "      <th>3</th>\n",
       "      <td>2015</td>\n",
       "      <td>-2.121796</td>\n",
       "    </tr>\n",
       "  </tbody>\n",
       "</table>\n",
       "</div>"
      ],
      "text/plain": [
       "   Year  avg(AvgTone)\n",
       "0  2016     -2.092143\n",
       "1  2006     -1.565424\n",
       "2  2007     -1.440724\n",
       "3  2015     -2.121796"
      ]
     },
     "execution_count": 24,
     "metadata": {},
     "output_type": "execute_result"
    }
   ],
   "source": [
    "tones_pd"
   ]
  },
  {
   "cell_type": "code",
   "execution_count": 16,
   "metadata": {},
   "outputs": [],
   "source": [
    "# df_feat = df_feat.withColumn(\"AvgTone\", df_feat[\"AvgTone\"].cast(\"double\"))"
   ]
  },
  {
   "cell_type": "markdown",
   "metadata": {},
   "source": [
    "Use Dask to visualize and filter data"
   ]
  },
  {
   "cell_type": "code",
   "execution_count": 9,
   "metadata": {},
   "outputs": [],
   "source": [
    "import dask\n",
    "import dask.dataframe as dd\n",
    "import pandas as pd"
   ]
  },
  {
   "cell_type": "code",
   "execution_count": 10,
   "metadata": {},
   "outputs": [],
   "source": [
    "df_feat.write.save(\"s3://zandras3/502final/feat2_news.csv\", format='csv', header=True)"
   ]
  },
  {
   "cell_type": "code",
   "execution_count": 11,
   "metadata": {},
   "outputs": [],
   "source": [
    "dask_feat = dd.read_csv('s3://zandras3/502final/feat2_news.csv/*.csv', \n",
    "                        dtype={'ActionGeo_Long': 'object',\n",
    "                       'Actor1Geo_Long': 'object',\n",
    "                       'Actor2Geo_Long': 'object'})"
   ]
  },
  {
   "cell_type": "code",
   "execution_count": 12,
   "metadata": {},
   "outputs": [
    {
     "data": {
      "text/html": [
       "<div><strong>Dask DataFrame Structure:</strong></div>\n",
       "<div>\n",
       "<style scoped>\n",
       "    .dataframe tbody tr th:only-of-type {\n",
       "        vertical-align: middle;\n",
       "    }\n",
       "\n",
       "    .dataframe tbody tr th {\n",
       "        vertical-align: top;\n",
       "    }\n",
       "\n",
       "    .dataframe thead th {\n",
       "        text-align: right;\n",
       "    }\n",
       "</style>\n",
       "<table border=\"1\" class=\"dataframe\">\n",
       "  <thead>\n",
       "    <tr style=\"text-align: right;\">\n",
       "      <th></th>\n",
       "      <th>SQLDATE</th>\n",
       "      <th>MonthYear</th>\n",
       "      <th>Year</th>\n",
       "      <th>Actor1Code</th>\n",
       "      <th>Actor1Name</th>\n",
       "      <th>Actor1CountryCode</th>\n",
       "      <th>Actor2Code</th>\n",
       "      <th>Actor2Name</th>\n",
       "      <th>Actor2CountryCode</th>\n",
       "      <th>QuadClass</th>\n",
       "      <th>GoldsteinScale</th>\n",
       "      <th>NumSources</th>\n",
       "      <th>AvgTone</th>\n",
       "      <th>Actor1Geo_Type</th>\n",
       "      <th>Actor1Geo_CountryCode</th>\n",
       "      <th>Actor1Geo_Lat</th>\n",
       "      <th>Actor1Geo_Long</th>\n",
       "      <th>Actor2Geo_Type</th>\n",
       "      <th>Actor2Geo_CountryCode</th>\n",
       "      <th>Actor2Geo_Lat</th>\n",
       "      <th>Actor2Geo_Long</th>\n",
       "      <th>ActionGeo_Type</th>\n",
       "      <th>ActionGeo_CountryCode</th>\n",
       "      <th>ActionGeo_Lat</th>\n",
       "      <th>ActionGeo_Long</th>\n",
       "      <th>SOURCEURL</th>\n",
       "    </tr>\n",
       "    <tr>\n",
       "      <th>npartitions=297</th>\n",
       "      <th></th>\n",
       "      <th></th>\n",
       "      <th></th>\n",
       "      <th></th>\n",
       "      <th></th>\n",
       "      <th></th>\n",
       "      <th></th>\n",
       "      <th></th>\n",
       "      <th></th>\n",
       "      <th></th>\n",
       "      <th></th>\n",
       "      <th></th>\n",
       "      <th></th>\n",
       "      <th></th>\n",
       "      <th></th>\n",
       "      <th></th>\n",
       "      <th></th>\n",
       "      <th></th>\n",
       "      <th></th>\n",
       "      <th></th>\n",
       "      <th></th>\n",
       "      <th></th>\n",
       "      <th></th>\n",
       "      <th></th>\n",
       "      <th></th>\n",
       "      <th></th>\n",
       "    </tr>\n",
       "  </thead>\n",
       "  <tbody>\n",
       "    <tr>\n",
       "      <th></th>\n",
       "      <td>int64</td>\n",
       "      <td>int64</td>\n",
       "      <td>int64</td>\n",
       "      <td>object</td>\n",
       "      <td>object</td>\n",
       "      <td>object</td>\n",
       "      <td>object</td>\n",
       "      <td>object</td>\n",
       "      <td>object</td>\n",
       "      <td>int64</td>\n",
       "      <td>float64</td>\n",
       "      <td>int64</td>\n",
       "      <td>float64</td>\n",
       "      <td>int64</td>\n",
       "      <td>object</td>\n",
       "      <td>float64</td>\n",
       "      <td>object</td>\n",
       "      <td>int64</td>\n",
       "      <td>object</td>\n",
       "      <td>float64</td>\n",
       "      <td>object</td>\n",
       "      <td>int64</td>\n",
       "      <td>object</td>\n",
       "      <td>float64</td>\n",
       "      <td>object</td>\n",
       "      <td>object</td>\n",
       "    </tr>\n",
       "    <tr>\n",
       "      <th></th>\n",
       "      <td>...</td>\n",
       "      <td>...</td>\n",
       "      <td>...</td>\n",
       "      <td>...</td>\n",
       "      <td>...</td>\n",
       "      <td>...</td>\n",
       "      <td>...</td>\n",
       "      <td>...</td>\n",
       "      <td>...</td>\n",
       "      <td>...</td>\n",
       "      <td>...</td>\n",
       "      <td>...</td>\n",
       "      <td>...</td>\n",
       "      <td>...</td>\n",
       "      <td>...</td>\n",
       "      <td>...</td>\n",
       "      <td>...</td>\n",
       "      <td>...</td>\n",
       "      <td>...</td>\n",
       "      <td>...</td>\n",
       "      <td>...</td>\n",
       "      <td>...</td>\n",
       "      <td>...</td>\n",
       "      <td>...</td>\n",
       "      <td>...</td>\n",
       "      <td>...</td>\n",
       "    </tr>\n",
       "    <tr>\n",
       "      <th>...</th>\n",
       "      <td>...</td>\n",
       "      <td>...</td>\n",
       "      <td>...</td>\n",
       "      <td>...</td>\n",
       "      <td>...</td>\n",
       "      <td>...</td>\n",
       "      <td>...</td>\n",
       "      <td>...</td>\n",
       "      <td>...</td>\n",
       "      <td>...</td>\n",
       "      <td>...</td>\n",
       "      <td>...</td>\n",
       "      <td>...</td>\n",
       "      <td>...</td>\n",
       "      <td>...</td>\n",
       "      <td>...</td>\n",
       "      <td>...</td>\n",
       "      <td>...</td>\n",
       "      <td>...</td>\n",
       "      <td>...</td>\n",
       "      <td>...</td>\n",
       "      <td>...</td>\n",
       "      <td>...</td>\n",
       "      <td>...</td>\n",
       "      <td>...</td>\n",
       "      <td>...</td>\n",
       "    </tr>\n",
       "    <tr>\n",
       "      <th></th>\n",
       "      <td>...</td>\n",
       "      <td>...</td>\n",
       "      <td>...</td>\n",
       "      <td>...</td>\n",
       "      <td>...</td>\n",
       "      <td>...</td>\n",
       "      <td>...</td>\n",
       "      <td>...</td>\n",
       "      <td>...</td>\n",
       "      <td>...</td>\n",
       "      <td>...</td>\n",
       "      <td>...</td>\n",
       "      <td>...</td>\n",
       "      <td>...</td>\n",
       "      <td>...</td>\n",
       "      <td>...</td>\n",
       "      <td>...</td>\n",
       "      <td>...</td>\n",
       "      <td>...</td>\n",
       "      <td>...</td>\n",
       "      <td>...</td>\n",
       "      <td>...</td>\n",
       "      <td>...</td>\n",
       "      <td>...</td>\n",
       "      <td>...</td>\n",
       "      <td>...</td>\n",
       "    </tr>\n",
       "    <tr>\n",
       "      <th></th>\n",
       "      <td>...</td>\n",
       "      <td>...</td>\n",
       "      <td>...</td>\n",
       "      <td>...</td>\n",
       "      <td>...</td>\n",
       "      <td>...</td>\n",
       "      <td>...</td>\n",
       "      <td>...</td>\n",
       "      <td>...</td>\n",
       "      <td>...</td>\n",
       "      <td>...</td>\n",
       "      <td>...</td>\n",
       "      <td>...</td>\n",
       "      <td>...</td>\n",
       "      <td>...</td>\n",
       "      <td>...</td>\n",
       "      <td>...</td>\n",
       "      <td>...</td>\n",
       "      <td>...</td>\n",
       "      <td>...</td>\n",
       "      <td>...</td>\n",
       "      <td>...</td>\n",
       "      <td>...</td>\n",
       "      <td>...</td>\n",
       "      <td>...</td>\n",
       "      <td>...</td>\n",
       "    </tr>\n",
       "  </tbody>\n",
       "</table>\n",
       "</div>\n",
       "<div>Dask Name: from-delayed, 891 tasks</div>"
      ],
      "text/plain": [
       "Dask DataFrame Structure:\n",
       "                SQLDATE MonthYear   Year Actor1Code Actor1Name Actor1CountryCode Actor2Code Actor2Name Actor2CountryCode QuadClass GoldsteinScale NumSources  AvgTone Actor1Geo_Type Actor1Geo_CountryCode Actor1Geo_Lat Actor1Geo_Long Actor2Geo_Type Actor2Geo_CountryCode Actor2Geo_Lat Actor2Geo_Long ActionGeo_Type ActionGeo_CountryCode ActionGeo_Lat ActionGeo_Long SOURCEURL\n",
       "npartitions=297                                                                                                                                                                                                                                                                                                                                                                      \n",
       "                  int64     int64  int64     object     object            object     object     object            object     int64        float64      int64  float64          int64                object       float64         object          int64                object       float64         object          int64                object       float64         object    object\n",
       "                    ...       ...    ...        ...        ...               ...        ...        ...               ...       ...            ...        ...      ...            ...                   ...           ...            ...            ...                   ...           ...            ...            ...                   ...           ...            ...       ...\n",
       "...                 ...       ...    ...        ...        ...               ...        ...        ...               ...       ...            ...        ...      ...            ...                   ...           ...            ...            ...                   ...           ...            ...            ...                   ...           ...            ...       ...\n",
       "                    ...       ...    ...        ...        ...               ...        ...        ...               ...       ...            ...        ...      ...            ...                   ...           ...            ...            ...                   ...           ...            ...            ...                   ...           ...            ...       ...\n",
       "                    ...       ...    ...        ...        ...               ...        ...        ...               ...       ...            ...        ...      ...            ...                   ...           ...            ...            ...                   ...           ...            ...            ...                   ...           ...            ...       ...\n",
       "Dask Name: from-delayed, 891 tasks"
      ]
     },
     "execution_count": 12,
     "metadata": {},
     "output_type": "execute_result"
    }
   ],
   "source": [
    "dask_feat"
   ]
  },
  {
   "cell_type": "markdown",
   "metadata": {},
   "source": [
    "Overview of news that have the most strong positive tone"
   ]
  },
  {
   "cell_type": "code",
   "execution_count": 13,
   "metadata": {},
   "outputs": [],
   "source": [
    "most_extreme_pos_tone = dask_feat[['MonthYear', 'AvgTone', 'Actor1Name', 'Actor2Name', 'SOURCEURL']].nlargest(10, \"AvgTone\").compute()"
   ]
  },
  {
   "cell_type": "code",
   "execution_count": 18,
   "metadata": {},
   "outputs": [
    {
     "name": "stderr",
     "output_type": "stream",
     "text": [
      "/home/hadoop/miniconda/lib/python3.7/site-packages/ipykernel_launcher.py:1: FutureWarning: Passing a negative integer is deprecated in version 1.0 and will not be supported in future version. Instead, use None to not limit the column width.\n",
      "  \"\"\"Entry point for launching an IPython kernel.\n"
     ]
    },
    {
     "data": {
      "text/html": [
       "<div>\n",
       "<style scoped>\n",
       "    .dataframe tbody tr th:only-of-type {\n",
       "        vertical-align: middle;\n",
       "    }\n",
       "\n",
       "    .dataframe tbody tr th {\n",
       "        vertical-align: top;\n",
       "    }\n",
       "\n",
       "    .dataframe thead th {\n",
       "        text-align: right;\n",
       "    }\n",
       "</style>\n",
       "<table border=\"1\" class=\"dataframe\">\n",
       "  <thead>\n",
       "    <tr style=\"text-align: right;\">\n",
       "      <th></th>\n",
       "      <th>MonthYear</th>\n",
       "      <th>AvgTone</th>\n",
       "      <th>Actor1Name</th>\n",
       "      <th>Actor2Name</th>\n",
       "      <th>SOURCEURL</th>\n",
       "    </tr>\n",
       "  </thead>\n",
       "  <tbody>\n",
       "    <tr>\n",
       "      <th>34409</th>\n",
       "      <td>201603</td>\n",
       "      <td>29.881154</td>\n",
       "      <td>CANADA</td>\n",
       "      <td>UNITED STATES</td>\n",
       "      <td>https://en.wikinews.org/wiki/Canada=sage=50=pro=advisor=support=number=1~844~313~4859=sage=pro=tech=support=number=Sage=50=accounts=support=number</td>\n",
       "    </tr>\n",
       "    <tr>\n",
       "      <th>34410</th>\n",
       "      <td>201603</td>\n",
       "      <td>29.844291</td>\n",
       "      <td>CANADA</td>\n",
       "      <td>UNITED STATES</td>\n",
       "      <td>https://en.wikinews.org/wiki/Dial=sage=50=canada=support=number=1~844~313~4859=sage=instant=payroll=helpline=SAGE=50=premium=support=number</td>\n",
       "    </tr>\n",
       "    <tr>\n",
       "      <th>167856</th>\n",
       "      <td>201608</td>\n",
       "      <td>26.229508</td>\n",
       "      <td>STUDENT</td>\n",
       "      <td>UNIVERSITY</td>\n",
       "      <td>http://readme.readmedia.com/Frostburg-Showcases-Outstanding-Student-Art-and-Creativity-in-Communications-at-Frosty-Awards/merit-61554</td>\n",
       "    </tr>\n",
       "    <tr>\n",
       "      <th>269452</th>\n",
       "      <td>201611</td>\n",
       "      <td>25.431034</td>\n",
       "      <td>BUSINESS</td>\n",
       "      <td>NaN</td>\n",
       "      <td>http://www.bristol247.com/channel/food-drink/news/awards/bristol-good-food-awards-2016-winners-reveal</td>\n",
       "    </tr>\n",
       "    <tr>\n",
       "      <th>269478</th>\n",
       "      <td>201611</td>\n",
       "      <td>25.431034</td>\n",
       "      <td>BUSINESS</td>\n",
       "      <td>UNITED KINGDOM</td>\n",
       "      <td>http://www.bristol247.com/channel/food-drink/news/awards/bristol-good-food-awards-2016-winners-reveal</td>\n",
       "    </tr>\n",
       "    <tr>\n",
       "      <th>192905</th>\n",
       "      <td>201607</td>\n",
       "      <td>25.000000</td>\n",
       "      <td>CITIZEN</td>\n",
       "      <td>MEDIA</td>\n",
       "      <td>https://www.yahoo.com/news/media-receive-brotherly-love-democratic-042741452.html</td>\n",
       "    </tr>\n",
       "    <tr>\n",
       "      <th>236906</th>\n",
       "      <td>201606</td>\n",
       "      <td>24.590164</td>\n",
       "      <td>NEWS OUTLET</td>\n",
       "      <td>ADVOCATE</td>\n",
       "      <td>http://www.playbill.com/article/photos-harvey-fierstein-honored-as-lgbt-trailblazer</td>\n",
       "    </tr>\n",
       "    <tr>\n",
       "      <th>123131</th>\n",
       "      <td>201603</td>\n",
       "      <td>24.444444</td>\n",
       "      <td>CREDIT UNION</td>\n",
       "      <td>NaN</td>\n",
       "      <td>https://www.cuinsight.com/wegner-winners-share-leadership-advice.html</td>\n",
       "    </tr>\n",
       "    <tr>\n",
       "      <th>123133</th>\n",
       "      <td>201603</td>\n",
       "      <td>24.444444</td>\n",
       "      <td>CREDIT UNION</td>\n",
       "      <td>NaN</td>\n",
       "      <td>https://www.cuinsight.com/wegner-winners-share-leadership-advice.html</td>\n",
       "    </tr>\n",
       "    <tr>\n",
       "      <th>123195</th>\n",
       "      <td>201603</td>\n",
       "      <td>24.444444</td>\n",
       "      <td>CREDIT UNION</td>\n",
       "      <td>CREDIT UNION</td>\n",
       "      <td>https://www.cuinsight.com/wegner-winners-share-leadership-advice.html</td>\n",
       "    </tr>\n",
       "  </tbody>\n",
       "</table>\n",
       "</div>"
      ],
      "text/plain": [
       "        MonthYear    AvgTone    Actor1Name      Actor2Name  \\\n",
       "34409   201603     29.881154  CANADA        UNITED STATES    \n",
       "34410   201603     29.844291  CANADA        UNITED STATES    \n",
       "167856  201608     26.229508  STUDENT       UNIVERSITY       \n",
       "269452  201611     25.431034  BUSINESS      NaN              \n",
       "269478  201611     25.431034  BUSINESS      UNITED KINGDOM   \n",
       "192905  201607     25.000000  CITIZEN       MEDIA            \n",
       "236906  201606     24.590164  NEWS OUTLET   ADVOCATE         \n",
       "123131  201603     24.444444  CREDIT UNION  NaN              \n",
       "123133  201603     24.444444  CREDIT UNION  NaN              \n",
       "123195  201603     24.444444  CREDIT UNION  CREDIT UNION     \n",
       "\n",
       "                                                                                                                                                 SOURCEURL  \n",
       "34409   https://en.wikinews.org/wiki/Canada=sage=50=pro=advisor=support=number=1~844~313~4859=sage=pro=tech=support=number=Sage=50=accounts=support=number  \n",
       "34410   https://en.wikinews.org/wiki/Dial=sage=50=canada=support=number=1~844~313~4859=sage=instant=payroll=helpline=SAGE=50=premium=support=number         \n",
       "167856  http://readme.readmedia.com/Frostburg-Showcases-Outstanding-Student-Art-and-Creativity-in-Communications-at-Frosty-Awards/merit-61554               \n",
       "269452  http://www.bristol247.com/channel/food-drink/news/awards/bristol-good-food-awards-2016-winners-reveal                                               \n",
       "269478  http://www.bristol247.com/channel/food-drink/news/awards/bristol-good-food-awards-2016-winners-reveal                                               \n",
       "192905  https://www.yahoo.com/news/media-receive-brotherly-love-democratic-042741452.html                                                                   \n",
       "236906  http://www.playbill.com/article/photos-harvey-fierstein-honored-as-lgbt-trailblazer                                                                 \n",
       "123131  https://www.cuinsight.com/wegner-winners-share-leadership-advice.html                                                                               \n",
       "123133  https://www.cuinsight.com/wegner-winners-share-leadership-advice.html                                                                               \n",
       "123195  https://www.cuinsight.com/wegner-winners-share-leadership-advice.html                                                                               "
      ]
     },
     "execution_count": 18,
     "metadata": {},
     "output_type": "execute_result"
    }
   ],
   "source": [
    "pd.set_option('display.max_colwidth', -1)\n",
    "most_extreme_pos_tone"
   ]
  },
  {
   "cell_type": "markdown",
   "metadata": {},
   "source": [
    "Overview of news that have the most strong negative tone"
   ]
  },
  {
   "cell_type": "code",
   "execution_count": 19,
   "metadata": {},
   "outputs": [],
   "source": [
    "most_extreme_tone_neg = dask_feat[['MonthYear', 'AvgTone', 'Actor1Name', 'Actor2Name', 'SOURCEURL']].nsmallest(10, \"AvgTone\").compute()"
   ]
  },
  {
   "cell_type": "code",
   "execution_count": 20,
   "metadata": {},
   "outputs": [
    {
     "data": {
      "text/html": [
       "<div>\n",
       "<style scoped>\n",
       "    .dataframe tbody tr th:only-of-type {\n",
       "        vertical-align: middle;\n",
       "    }\n",
       "\n",
       "    .dataframe tbody tr th {\n",
       "        vertical-align: top;\n",
       "    }\n",
       "\n",
       "    .dataframe thead th {\n",
       "        text-align: right;\n",
       "    }\n",
       "</style>\n",
       "<table border=\"1\" class=\"dataframe\">\n",
       "  <thead>\n",
       "    <tr style=\"text-align: right;\">\n",
       "      <th></th>\n",
       "      <th>MonthYear</th>\n",
       "      <th>AvgTone</th>\n",
       "      <th>Actor1Name</th>\n",
       "      <th>Actor2Name</th>\n",
       "      <th>SOURCEURL</th>\n",
       "    </tr>\n",
       "  </thead>\n",
       "  <tbody>\n",
       "    <tr>\n",
       "      <th>101147</th>\n",
       "      <td>201603</td>\n",
       "      <td>-77.878034</td>\n",
       "      <td>THE US</td>\n",
       "      <td>UNITED KINGDOM</td>\n",
       "      <td>http://www.wandsworthguardian.co.uk/news/14340813.display/</td>\n",
       "    </tr>\n",
       "    <tr>\n",
       "      <th>1463</th>\n",
       "      <td>201602</td>\n",
       "      <td>-59.471684</td>\n",
       "      <td>SOUTH CAROLINA</td>\n",
       "      <td>NaN</td>\n",
       "      <td>http://freerepublic.com/focus/f-news/3398001/posts</td>\n",
       "    </tr>\n",
       "    <tr>\n",
       "      <th>1494</th>\n",
       "      <td>201602</td>\n",
       "      <td>-59.471684</td>\n",
       "      <td>NEW YORK</td>\n",
       "      <td>NaN</td>\n",
       "      <td>http://freerepublic.com/focus/f-news/3398001/posts</td>\n",
       "    </tr>\n",
       "    <tr>\n",
       "      <th>58732</th>\n",
       "      <td>201603</td>\n",
       "      <td>-57.097065</td>\n",
       "      <td>UNITED KINGDOM</td>\n",
       "      <td>NaN</td>\n",
       "      <td>http://www.dailymail.co.uk/news/article-3489982/Muslim-extremist-jailed-firebombing-sells-organic-beard-oil.html</td>\n",
       "    </tr>\n",
       "    <tr>\n",
       "      <th>155764</th>\n",
       "      <td>201607</td>\n",
       "      <td>-50.000000</td>\n",
       "      <td>SUDAN</td>\n",
       "      <td>FRANCE</td>\n",
       "      <td>Multiple Sources/BBC Monitoring/(c) BBC</td>\n",
       "    </tr>\n",
       "    <tr>\n",
       "      <th>35882</th>\n",
       "      <td>201608</td>\n",
       "      <td>-40.000000</td>\n",
       "      <td>PRISON</td>\n",
       "      <td>ILLINOIS</td>\n",
       "      <td>https://www.yahoo.com/news/mother-cancer-convicted-killing-disabled-172017802.html</td>\n",
       "    </tr>\n",
       "    <tr>\n",
       "      <th>68577</th>\n",
       "      <td>201609</td>\n",
       "      <td>-39.215686</td>\n",
       "      <td>PROSECUTOR</td>\n",
       "      <td>IOWA</td>\n",
       "      <td>https://www.yahoo.com/news/prosecutor-resigns-arrest-allegedly-stealing-163018607.html</td>\n",
       "    </tr>\n",
       "    <tr>\n",
       "      <th>269091</th>\n",
       "      <td>201606</td>\n",
       "      <td>-39.215686</td>\n",
       "      <td>EMPLOYEE</td>\n",
       "      <td>CHICAGO</td>\n",
       "      <td>https://www.yahoo.com/news/juvenile-suspect-arrested-fatal-shooting-225010116.html</td>\n",
       "    </tr>\n",
       "    <tr>\n",
       "      <th>269663</th>\n",
       "      <td>201606</td>\n",
       "      <td>-39.215686</td>\n",
       "      <td>CHICAGO</td>\n",
       "      <td>EMPLOYEE</td>\n",
       "      <td>https://www.yahoo.com/news/juvenile-suspect-arrested-fatal-shooting-225010116.html</td>\n",
       "    </tr>\n",
       "    <tr>\n",
       "      <th>108904</th>\n",
       "      <td>201608</td>\n",
       "      <td>-38.461538</td>\n",
       "      <td>NaN</td>\n",
       "      <td>SAO PAULO</td>\n",
       "      <td>https://www.yahoo.com/news/tear-gas-fired-impeachment-protesters-063057459.html</td>\n",
       "    </tr>\n",
       "  </tbody>\n",
       "</table>\n",
       "</div>"
      ],
      "text/plain": [
       "        MonthYear    AvgTone      Actor1Name      Actor2Name  \\\n",
       "101147  201603    -77.878034  THE US          UNITED KINGDOM   \n",
       "1463    201602    -59.471684  SOUTH CAROLINA  NaN              \n",
       "1494    201602    -59.471684  NEW YORK        NaN              \n",
       "58732   201603    -57.097065  UNITED KINGDOM  NaN              \n",
       "155764  201607    -50.000000  SUDAN           FRANCE           \n",
       "35882   201608    -40.000000  PRISON          ILLINOIS         \n",
       "68577   201609    -39.215686  PROSECUTOR      IOWA             \n",
       "269091  201606    -39.215686  EMPLOYEE        CHICAGO          \n",
       "269663  201606    -39.215686  CHICAGO         EMPLOYEE         \n",
       "108904  201608    -38.461538  NaN             SAO PAULO        \n",
       "\n",
       "                                                                                                               SOURCEURL  \n",
       "101147  http://www.wandsworthguardian.co.uk/news/14340813.display/                                                        \n",
       "1463    http://freerepublic.com/focus/f-news/3398001/posts                                                                \n",
       "1494    http://freerepublic.com/focus/f-news/3398001/posts                                                                \n",
       "58732   http://www.dailymail.co.uk/news/article-3489982/Muslim-extremist-jailed-firebombing-sells-organic-beard-oil.html  \n",
       "155764  Multiple Sources/BBC Monitoring/(c) BBC                                                                           \n",
       "35882   https://www.yahoo.com/news/mother-cancer-convicted-killing-disabled-172017802.html                                \n",
       "68577   https://www.yahoo.com/news/prosecutor-resigns-arrest-allegedly-stealing-163018607.html                            \n",
       "269091  https://www.yahoo.com/news/juvenile-suspect-arrested-fatal-shooting-225010116.html                                \n",
       "269663  https://www.yahoo.com/news/juvenile-suspect-arrested-fatal-shooting-225010116.html                                \n",
       "108904  https://www.yahoo.com/news/tear-gas-fired-impeachment-protesters-063057459.html                                   "
      ]
     },
     "execution_count": 20,
     "metadata": {},
     "output_type": "execute_result"
    }
   ],
   "source": [
    "most_extreme_tone_neg"
   ]
  },
  {
   "cell_type": "markdown",
   "metadata": {},
   "source": [
    "### News Related to Certain Countries"
   ]
  },
  {
   "cell_type": "markdown",
   "metadata": {},
   "source": [
    "Each country's news and their mean values for the average tones:"
   ]
  },
  {
   "cell_type": "code",
   "execution_count": 23,
   "metadata": {},
   "outputs": [],
   "source": [
    "country_mean = dask_feat.groupby('Actor2CountryCode').AvgTone.mean().compute()"
   ]
  },
  {
   "cell_type": "code",
   "execution_count": 26,
   "metadata": {},
   "outputs": [
    {
     "data": {
      "text/plain": [
       "Actor2CountryCode\n",
       "ABW    0.410868\n",
       "AFG   -3.576521\n",
       "AFR   -1.495684\n",
       "AGO   -1.553089\n",
       "AIA    0.860718\n",
       "         ...   \n",
       "WLF    0.373889\n",
       "SCN    1.604239\n",
       "CAU    1.999307\n",
       "NAF   -4.998527\n",
       "PRI   -2.413313\n",
       "Name: AvgTone, Length: 222, dtype: float64"
      ]
     },
     "execution_count": 26,
     "metadata": {},
     "output_type": "execute_result"
    }
   ],
   "source": [
    "country_mean"
   ]
  },
  {
   "cell_type": "code",
   "execution_count": 29,
   "metadata": {},
   "outputs": [],
   "source": [
    "country_mean_pd = pd.DataFrame({'Country':country_mean.index, 'AvgTone_mean':country_mean.values})"
   ]
  },
  {
   "cell_type": "code",
   "execution_count": 88,
   "metadata": {},
   "outputs": [
    {
     "data": {
      "text/html": [
       "<div>\n",
       "<style scoped>\n",
       "    .dataframe tbody tr th:only-of-type {\n",
       "        vertical-align: middle;\n",
       "    }\n",
       "\n",
       "    .dataframe tbody tr th {\n",
       "        vertical-align: top;\n",
       "    }\n",
       "\n",
       "    .dataframe thead th {\n",
       "        text-align: right;\n",
       "    }\n",
       "</style>\n",
       "<table border=\"1\" class=\"dataframe\">\n",
       "  <thead>\n",
       "    <tr style=\"text-align: right;\">\n",
       "      <th></th>\n",
       "      <th>Country</th>\n",
       "      <th>AvgTone_mean</th>\n",
       "    </tr>\n",
       "  </thead>\n",
       "  <tbody>\n",
       "    <tr>\n",
       "      <th>220</th>\n",
       "      <td>NAF</td>\n",
       "      <td>-4.998527</td>\n",
       "    </tr>\n",
       "    <tr>\n",
       "      <th>208</th>\n",
       "      <td>YEM</td>\n",
       "      <td>-4.256367</td>\n",
       "    </tr>\n",
       "    <tr>\n",
       "      <th>182</th>\n",
       "      <td>SYR</td>\n",
       "      <td>-4.253860</td>\n",
       "    </tr>\n",
       "    <tr>\n",
       "      <th>144</th>\n",
       "      <td>NRU</td>\n",
       "      <td>-4.218909</td>\n",
       "    </tr>\n",
       "    <tr>\n",
       "      <th>173</th>\n",
       "      <td>SOM</td>\n",
       "      <td>-4.140004</td>\n",
       "    </tr>\n",
       "    <tr>\n",
       "      <th>...</th>\n",
       "      <td>...</td>\n",
       "      <td>...</td>\n",
       "    </tr>\n",
       "    <tr>\n",
       "      <th>181</th>\n",
       "      <td>SYC</td>\n",
       "      <td>1.270003</td>\n",
       "    </tr>\n",
       "    <tr>\n",
       "      <th>102</th>\n",
       "      <td>KNA</td>\n",
       "      <td>1.553830</td>\n",
       "    </tr>\n",
       "    <tr>\n",
       "      <th>218</th>\n",
       "      <td>SCN</td>\n",
       "      <td>1.604239</td>\n",
       "    </tr>\n",
       "    <tr>\n",
       "      <th>117</th>\n",
       "      <td>MAC</td>\n",
       "      <td>1.676650</td>\n",
       "    </tr>\n",
       "    <tr>\n",
       "      <th>219</th>\n",
       "      <td>CAU</td>\n",
       "      <td>1.999307</td>\n",
       "    </tr>\n",
       "  </tbody>\n",
       "</table>\n",
       "<p>222 rows × 2 columns</p>\n",
       "</div>"
      ],
      "text/plain": [
       "    Country  AvgTone_mean\n",
       "220  NAF    -4.998527    \n",
       "208  YEM    -4.256367    \n",
       "182  SYR    -4.253860    \n",
       "144  NRU    -4.218909    \n",
       "173  SOM    -4.140004    \n",
       "..   ...          ...    \n",
       "181  SYC     1.270003    \n",
       "102  KNA     1.553830    \n",
       "218  SCN     1.604239    \n",
       "117  MAC     1.676650    \n",
       "219  CAU     1.999307    \n",
       "\n",
       "[222 rows x 2 columns]"
      ]
     },
     "execution_count": 88,
     "metadata": {},
     "output_type": "execute_result"
    }
   ],
   "source": [
    "pd.set_option('display.max_rows', 100)\n",
    "country_mean_sorted = country_mean_pd.sort_values('AvgTone_mean')\n",
    "country_mean_sorted"
   ]
  },
  {
   "cell_type": "code",
   "execution_count": 89,
   "metadata": {},
   "outputs": [
    {
     "data": {
      "text/html": [
       "<div>\n",
       "<style scoped>\n",
       "    .dataframe tbody tr th:only-of-type {\n",
       "        vertical-align: middle;\n",
       "    }\n",
       "\n",
       "    .dataframe tbody tr th {\n",
       "        vertical-align: top;\n",
       "    }\n",
       "\n",
       "    .dataframe thead th {\n",
       "        text-align: right;\n",
       "    }\n",
       "</style>\n",
       "<table border=\"1\" class=\"dataframe\">\n",
       "  <thead>\n",
       "    <tr style=\"text-align: right;\">\n",
       "      <th></th>\n",
       "      <th>Country</th>\n",
       "      <th>AvgTone_mean</th>\n",
       "    </tr>\n",
       "  </thead>\n",
       "  <tbody>\n",
       "    <tr>\n",
       "      <th>198</th>\n",
       "      <td>USA</td>\n",
       "      <td>-1.933952</td>\n",
       "    </tr>\n",
       "  </tbody>\n",
       "</table>\n",
       "</div>"
      ],
      "text/plain": [
       "    Country  AvgTone_mean\n",
       "198  USA    -1.933952    "
      ]
     },
     "execution_count": 89,
     "metadata": {},
     "output_type": "execute_result"
    }
   ],
   "source": [
    "country_mean_sorted.loc[country_mean_sorted['Country'] == 'USA']"
   ]
  },
  {
   "cell_type": "code",
   "execution_count": 90,
   "metadata": {},
   "outputs": [
    {
     "data": {
      "text/html": [
       "<div>\n",
       "<style scoped>\n",
       "    .dataframe tbody tr th:only-of-type {\n",
       "        vertical-align: middle;\n",
       "    }\n",
       "\n",
       "    .dataframe tbody tr th {\n",
       "        vertical-align: top;\n",
       "    }\n",
       "\n",
       "    .dataframe thead th {\n",
       "        text-align: right;\n",
       "    }\n",
       "</style>\n",
       "<table border=\"1\" class=\"dataframe\">\n",
       "  <thead>\n",
       "    <tr style=\"text-align: right;\">\n",
       "      <th></th>\n",
       "      <th>Country</th>\n",
       "      <th>AvgTone_mean</th>\n",
       "    </tr>\n",
       "  </thead>\n",
       "  <tbody>\n",
       "    <tr>\n",
       "      <th>36</th>\n",
       "      <td>CHN</td>\n",
       "      <td>-0.938071</td>\n",
       "    </tr>\n",
       "  </tbody>\n",
       "</table>\n",
       "</div>"
      ],
      "text/plain": [
       "   Country  AvgTone_mean\n",
       "36  CHN    -0.938071    "
      ]
     },
     "execution_count": 90,
     "metadata": {},
     "output_type": "execute_result"
    }
   ],
   "source": [
    "country_mean_sorted.loc[country_mean_sorted['Country'] == 'CHN']"
   ]
  },
  {
   "cell_type": "code",
   "execution_count": 52,
   "metadata": {},
   "outputs": [
    {
     "data": {
      "text/plain": [
       "Actor1CountryCode\n",
       "ABW    0.485961\n",
       "AFG   -3.680197\n",
       "AFR   -1.514082\n",
       "AGO   -1.417258\n",
       "AIA    0.917811\n",
       "         ...   \n",
       "SCN   -0.194933\n",
       "ROM   -3.137477\n",
       "CAU   -1.220209\n",
       "NAF   -4.362679\n",
       "PRI   -1.167317\n",
       "Name: AvgTone, Length: 222, dtype: float64"
      ]
     },
     "execution_count": 52,
     "metadata": {},
     "output_type": "execute_result"
    }
   ],
   "source": [
    "dask_feat.groupby('Actor2CountryCode').AvgTone.mean().compute()"
   ]
  },
  {
   "cell_type": "code",
   "execution_count": null,
   "metadata": {},
   "outputs": [],
   "source": [
    "dask_feat.groupby('Actor2Name').AvgTone.mean().compute()"
   ]
  },
  {
   "cell_type": "markdown",
   "metadata": {},
   "source": [
    "News Related to China (Actor1 is China): "
   ]
  },
  {
   "cell_type": "code",
   "execution_count": 51,
   "metadata": {},
   "outputs": [
    {
     "data": {
      "text/html": [
       "<div>\n",
       "<style scoped>\n",
       "    .dataframe tbody tr th:only-of-type {\n",
       "        vertical-align: middle;\n",
       "    }\n",
       "\n",
       "    .dataframe tbody tr th {\n",
       "        vertical-align: top;\n",
       "    }\n",
       "\n",
       "    .dataframe thead th {\n",
       "        text-align: right;\n",
       "    }\n",
       "</style>\n",
       "<table border=\"1\" class=\"dataframe\">\n",
       "  <thead>\n",
       "    <tr style=\"text-align: right;\">\n",
       "      <th></th>\n",
       "      <th>SQLDATE</th>\n",
       "      <th>MonthYear</th>\n",
       "      <th>Year</th>\n",
       "      <th>Actor1Code</th>\n",
       "      <th>Actor1Name</th>\n",
       "      <th>Actor1CountryCode</th>\n",
       "      <th>Actor2Code</th>\n",
       "      <th>Actor2Name</th>\n",
       "      <th>Actor2CountryCode</th>\n",
       "      <th>QuadClass</th>\n",
       "      <th>...</th>\n",
       "      <th>Actor1Geo_Lat</th>\n",
       "      <th>Actor1Geo_Long</th>\n",
       "      <th>Actor2Geo_Type</th>\n",
       "      <th>Actor2Geo_CountryCode</th>\n",
       "      <th>Actor2Geo_Lat</th>\n",
       "      <th>Actor2Geo_Long</th>\n",
       "      <th>ActionGeo_Type</th>\n",
       "      <th>ActionGeo_CountryCode</th>\n",
       "      <th>ActionGeo_Lat</th>\n",
       "      <th>ActionGeo_Long</th>\n",
       "    </tr>\n",
       "  </thead>\n",
       "  <tbody>\n",
       "    <tr>\n",
       "      <th>1073</th>\n",
       "      <td>20161223</td>\n",
       "      <td>201612</td>\n",
       "      <td>2016</td>\n",
       "      <td>CHN</td>\n",
       "      <td>CHINA</td>\n",
       "      <td>CHN</td>\n",
       "      <td>NaN</td>\n",
       "      <td>NaN</td>\n",
       "      <td>NaN</td>\n",
       "      <td>1</td>\n",
       "      <td>...</td>\n",
       "      <td>39.9289</td>\n",
       "      <td>116.388</td>\n",
       "      <td>0</td>\n",
       "      <td>NaN</td>\n",
       "      <td>NaN</td>\n",
       "      <td>NaN</td>\n",
       "      <td>4</td>\n",
       "      <td>CH</td>\n",
       "      <td>39.9289</td>\n",
       "      <td>116.388</td>\n",
       "    </tr>\n",
       "    <tr>\n",
       "      <th>1074</th>\n",
       "      <td>20161223</td>\n",
       "      <td>201612</td>\n",
       "      <td>2016</td>\n",
       "      <td>CHN</td>\n",
       "      <td>CHINA</td>\n",
       "      <td>CHN</td>\n",
       "      <td>NaN</td>\n",
       "      <td>NaN</td>\n",
       "      <td>NaN</td>\n",
       "      <td>1</td>\n",
       "      <td>...</td>\n",
       "      <td>32.9889</td>\n",
       "      <td>117.342</td>\n",
       "      <td>0</td>\n",
       "      <td>NaN</td>\n",
       "      <td>NaN</td>\n",
       "      <td>NaN</td>\n",
       "      <td>4</td>\n",
       "      <td>CH</td>\n",
       "      <td>32.9889</td>\n",
       "      <td>117.342</td>\n",
       "    </tr>\n",
       "    <tr>\n",
       "      <th>1075</th>\n",
       "      <td>20161223</td>\n",
       "      <td>201612</td>\n",
       "      <td>2016</td>\n",
       "      <td>CHN</td>\n",
       "      <td>CHINA</td>\n",
       "      <td>CHN</td>\n",
       "      <td>NaN</td>\n",
       "      <td>NaN</td>\n",
       "      <td>NaN</td>\n",
       "      <td>1</td>\n",
       "      <td>...</td>\n",
       "      <td>25.5775</td>\n",
       "      <td>115.256</td>\n",
       "      <td>0</td>\n",
       "      <td>NaN</td>\n",
       "      <td>NaN</td>\n",
       "      <td>NaN</td>\n",
       "      <td>4</td>\n",
       "      <td>CH</td>\n",
       "      <td>25.5775</td>\n",
       "      <td>115.256</td>\n",
       "    </tr>\n",
       "    <tr>\n",
       "      <th>1076</th>\n",
       "      <td>20161223</td>\n",
       "      <td>201612</td>\n",
       "      <td>2016</td>\n",
       "      <td>CHN</td>\n",
       "      <td>CHINA</td>\n",
       "      <td>CHN</td>\n",
       "      <td>NaN</td>\n",
       "      <td>NaN</td>\n",
       "      <td>NaN</td>\n",
       "      <td>1</td>\n",
       "      <td>...</td>\n",
       "      <td>35.0000</td>\n",
       "      <td>105</td>\n",
       "      <td>0</td>\n",
       "      <td>NaN</td>\n",
       "      <td>NaN</td>\n",
       "      <td>NaN</td>\n",
       "      <td>1</td>\n",
       "      <td>CH</td>\n",
       "      <td>35.0000</td>\n",
       "      <td>105</td>\n",
       "    </tr>\n",
       "    <tr>\n",
       "      <th>1077</th>\n",
       "      <td>20161223</td>\n",
       "      <td>201612</td>\n",
       "      <td>2016</td>\n",
       "      <td>CHN</td>\n",
       "      <td>CHINESE</td>\n",
       "      <td>CHN</td>\n",
       "      <td>NaN</td>\n",
       "      <td>NaN</td>\n",
       "      <td>NaN</td>\n",
       "      <td>1</td>\n",
       "      <td>...</td>\n",
       "      <td>54.0000</td>\n",
       "      <td>-2</td>\n",
       "      <td>0</td>\n",
       "      <td>NaN</td>\n",
       "      <td>NaN</td>\n",
       "      <td>NaN</td>\n",
       "      <td>1</td>\n",
       "      <td>UK</td>\n",
       "      <td>54.0000</td>\n",
       "      <td>-2</td>\n",
       "    </tr>\n",
       "  </tbody>\n",
       "</table>\n",
       "<p>5 rows × 25 columns</p>\n",
       "</div>"
      ],
      "text/plain": [
       "       SQLDATE  MonthYear  Year Actor1Code Actor1Name Actor1CountryCode  \\\n",
       "1073  20161223     201612  2016        CHN      CHINA               CHN   \n",
       "1074  20161223     201612  2016        CHN      CHINA               CHN   \n",
       "1075  20161223     201612  2016        CHN      CHINA               CHN   \n",
       "1076  20161223     201612  2016        CHN      CHINA               CHN   \n",
       "1077  20161223     201612  2016        CHN    CHINESE               CHN   \n",
       "\n",
       "     Actor2Code Actor2Name Actor2CountryCode  QuadClass  ...  Actor1Geo_Lat  \\\n",
       "1073        NaN        NaN               NaN          1  ...        39.9289   \n",
       "1074        NaN        NaN               NaN          1  ...        32.9889   \n",
       "1075        NaN        NaN               NaN          1  ...        25.5775   \n",
       "1076        NaN        NaN               NaN          1  ...        35.0000   \n",
       "1077        NaN        NaN               NaN          1  ...        54.0000   \n",
       "\n",
       "      Actor1Geo_Long  Actor2Geo_Type  Actor2Geo_CountryCode Actor2Geo_Lat  \\\n",
       "1073         116.388               0                    NaN           NaN   \n",
       "1074         117.342               0                    NaN           NaN   \n",
       "1075         115.256               0                    NaN           NaN   \n",
       "1076             105               0                    NaN           NaN   \n",
       "1077              -2               0                    NaN           NaN   \n",
       "\n",
       "      Actor2Geo_Long ActionGeo_Type  ActionGeo_CountryCode ActionGeo_Lat  \\\n",
       "1073             NaN              4                     CH       39.9289   \n",
       "1074             NaN              4                     CH       32.9889   \n",
       "1075             NaN              4                     CH       25.5775   \n",
       "1076             NaN              1                     CH       35.0000   \n",
       "1077             NaN              1                     UK       54.0000   \n",
       "\n",
       "      ActionGeo_Long  \n",
       "1073         116.388  \n",
       "1074         117.342  \n",
       "1075         115.256  \n",
       "1076             105  \n",
       "1077              -2  \n",
       "\n",
       "[5 rows x 25 columns]"
      ]
     },
     "execution_count": 51,
     "metadata": {},
     "output_type": "execute_result"
    }
   ],
   "source": [
    "dask_feat[dask_feat.Actor1CountryCode == 'CHN'].head(npartitions=-1)"
   ]
  },
  {
   "cell_type": "markdown",
   "metadata": {},
   "source": [
    "Mean of average tones for News Related to China (Actor1 is China):"
   ]
  },
  {
   "cell_type": "code",
   "execution_count": 65,
   "metadata": {},
   "outputs": [
    {
     "data": {
      "text/plain": [
       "-0.961569938380273"
      ]
     },
     "execution_count": 65,
     "metadata": {},
     "output_type": "execute_result"
    }
   ],
   "source": [
    "dask_feat[dask_feat.Actor1CountryCode == 'CHN'].AvgTone.mean().compute()"
   ]
  },
  {
   "cell_type": "markdown",
   "metadata": {},
   "source": [
    "Mean of average tones for News Related to China (Actor2 is China):"
   ]
  },
  {
   "cell_type": "code",
   "execution_count": 69,
   "metadata": {},
   "outputs": [
    {
     "data": {
      "text/plain": [
       "-0.938070685218778"
      ]
     },
     "execution_count": 69,
     "metadata": {},
     "output_type": "execute_result"
    }
   ],
   "source": [
    "dask_feat[dask_feat.Actor2CountryCode == 'CHN'].AvgTone.mean().compute()"
   ]
  },
  {
   "cell_type": "markdown",
   "metadata": {},
   "source": [
    "Mean of average tones for News Related to US-China (Actor1 is China, Actor2 is the US):"
   ]
  },
  {
   "cell_type": "code",
   "execution_count": 37,
   "metadata": {},
   "outputs": [
    {
     "data": {
      "text/plain": [
       "-1.3531860494884245"
      ]
     },
     "execution_count": 37,
     "metadata": {},
     "output_type": "execute_result"
    }
   ],
   "source": [
    "china_news1 = dask_feat[dask_feat.Actor1CountryCode == 'CHN']\n",
    "china_news1[china_news1.Actor2CountryCode == 'USA'].AvgTone.mean().compute()"
   ]
  },
  {
   "cell_type": "markdown",
   "metadata": {},
   "source": [
    "Mean of average tones for News Related to US-China (Actor1 is the US, Actor2 is the China):"
   ]
  },
  {
   "cell_type": "code",
   "execution_count": 45,
   "metadata": {},
   "outputs": [
    {
     "data": {
      "text/plain": [
       "-1.3268823749714935"
      ]
     },
     "execution_count": 45,
     "metadata": {},
     "output_type": "execute_result"
    }
   ],
   "source": [
    "china_news2 = dask_feat[dask_feat.Actor2CountryCode == 'CHN']\n",
    "china_news2[china_news2.Actor1CountryCode == 'USA'].AvgTone.mean().compute()"
   ]
  },
  {
   "cell_type": "markdown",
   "metadata": {},
   "source": [
    "Mean of average tones for News Related to US-Russia (Actor1 is Russia, Actor2 is the US):"
   ]
  },
  {
   "cell_type": "code",
   "execution_count": 46,
   "metadata": {},
   "outputs": [
    {
     "data": {
      "text/plain": [
       "-2.8030116784788057"
      ]
     },
     "execution_count": 46,
     "metadata": {},
     "output_type": "execute_result"
    }
   ],
   "source": [
    "rus_news1 = dask_feat[dask_feat.Actor1CountryCode == 'RUS']\n",
    "rus_news1[rus_news1.Actor2CountryCode == 'USA'].AvgTone.mean().compute()"
   ]
  },
  {
   "cell_type": "markdown",
   "metadata": {},
   "source": [
    "Mean of average tones for News Related to US-Russia (Actor1 is the US, Actor2 is the Russia):"
   ]
  },
  {
   "cell_type": "code",
   "execution_count": 47,
   "metadata": {},
   "outputs": [
    {
     "data": {
      "text/plain": [
       "-2.9090902048613976"
      ]
     },
     "execution_count": 47,
     "metadata": {},
     "output_type": "execute_result"
    }
   ],
   "source": [
    "rus_news2 = dask_feat[dask_feat.Actor2CountryCode == 'RUS']\n",
    "rus_news2[rus_news2.Actor1CountryCode == 'USA'].AvgTone.mean().compute()"
   ]
  },
  {
   "cell_type": "markdown",
   "metadata": {},
   "source": [
    "This shows that Mean of average tones for News Related to the same country can be different, depends on if the country is Actor1 or Actor2."
   ]
  },
  {
   "cell_type": "markdown",
   "metadata": {},
   "source": [
    "News Related to China (Actor1 is China) that has most strong negative tones:"
   ]
  },
  {
   "cell_type": "code",
   "execution_count": 71,
   "metadata": {},
   "outputs": [
    {
     "data": {
      "text/html": [
       "<div>\n",
       "<style scoped>\n",
       "    .dataframe tbody tr th:only-of-type {\n",
       "        vertical-align: middle;\n",
       "    }\n",
       "\n",
       "    .dataframe tbody tr th {\n",
       "        vertical-align: top;\n",
       "    }\n",
       "\n",
       "    .dataframe thead th {\n",
       "        text-align: right;\n",
       "    }\n",
       "</style>\n",
       "<table border=\"1\" class=\"dataframe\">\n",
       "  <thead>\n",
       "    <tr style=\"text-align: right;\">\n",
       "      <th></th>\n",
       "      <th>SQLDATE</th>\n",
       "      <th>MonthYear</th>\n",
       "      <th>Year</th>\n",
       "      <th>Actor1Code</th>\n",
       "      <th>Actor1Name</th>\n",
       "      <th>Actor1CountryCode</th>\n",
       "      <th>Actor2Code</th>\n",
       "      <th>Actor2Name</th>\n",
       "      <th>Actor2CountryCode</th>\n",
       "      <th>QuadClass</th>\n",
       "      <th>...</th>\n",
       "      <th>Actor1Geo_Lat</th>\n",
       "      <th>Actor1Geo_Long</th>\n",
       "      <th>Actor2Geo_Type</th>\n",
       "      <th>Actor2Geo_CountryCode</th>\n",
       "      <th>Actor2Geo_Lat</th>\n",
       "      <th>Actor2Geo_Long</th>\n",
       "      <th>ActionGeo_Type</th>\n",
       "      <th>ActionGeo_CountryCode</th>\n",
       "      <th>ActionGeo_Lat</th>\n",
       "      <th>ActionGeo_Long</th>\n",
       "    </tr>\n",
       "  </thead>\n",
       "  <tbody>\n",
       "    <tr>\n",
       "      <th>109570</th>\n",
       "      <td>20160728</td>\n",
       "      <td>201607</td>\n",
       "      <td>2016</td>\n",
       "      <td>CHN</td>\n",
       "      <td>CHINA</td>\n",
       "      <td>CHN</td>\n",
       "      <td>USA</td>\n",
       "      <td>LAWRENCE</td>\n",
       "      <td>USA</td>\n",
       "      <td>4</td>\n",
       "      <td>...</td>\n",
       "      <td>35.0000</td>\n",
       "      <td>105</td>\n",
       "      <td>1</td>\n",
       "      <td>CH</td>\n",
       "      <td>35.0000</td>\n",
       "      <td>105</td>\n",
       "      <td>1</td>\n",
       "      <td>CH</td>\n",
       "      <td>35.0000</td>\n",
       "      <td>105</td>\n",
       "    </tr>\n",
       "    <tr>\n",
       "      <th>290941</th>\n",
       "      <td>20160303</td>\n",
       "      <td>201603</td>\n",
       "      <td>2016</td>\n",
       "      <td>CHN</td>\n",
       "      <td>CANTON</td>\n",
       "      <td>CHN</td>\n",
       "      <td>USA</td>\n",
       "      <td>OHIO</td>\n",
       "      <td>USA</td>\n",
       "      <td>3</td>\n",
       "      <td>...</td>\n",
       "      <td>40.8167</td>\n",
       "      <td>-81.3665</td>\n",
       "      <td>3</td>\n",
       "      <td>US</td>\n",
       "      <td>40.8167</td>\n",
       "      <td>-81.3665</td>\n",
       "      <td>3</td>\n",
       "      <td>US</td>\n",
       "      <td>40.8167</td>\n",
       "      <td>-81.3665</td>\n",
       "    </tr>\n",
       "    <tr>\n",
       "      <th>290942</th>\n",
       "      <td>20160303</td>\n",
       "      <td>201603</td>\n",
       "      <td>2016</td>\n",
       "      <td>CHN</td>\n",
       "      <td>CANTON</td>\n",
       "      <td>CHN</td>\n",
       "      <td>USA</td>\n",
       "      <td>UNITED STATES</td>\n",
       "      <td>USA</td>\n",
       "      <td>3</td>\n",
       "      <td>...</td>\n",
       "      <td>40.8167</td>\n",
       "      <td>-81.3665</td>\n",
       "      <td>2</td>\n",
       "      <td>US</td>\n",
       "      <td>40.3736</td>\n",
       "      <td>-82.7755</td>\n",
       "      <td>2</td>\n",
       "      <td>US</td>\n",
       "      <td>40.3736</td>\n",
       "      <td>-82.7755</td>\n",
       "    </tr>\n",
       "    <tr>\n",
       "      <th>186563</th>\n",
       "      <td>20160622</td>\n",
       "      <td>201606</td>\n",
       "      <td>2016</td>\n",
       "      <td>CHN</td>\n",
       "      <td>CHINA</td>\n",
       "      <td>CHN</td>\n",
       "      <td>NaN</td>\n",
       "      <td>NaN</td>\n",
       "      <td>NaN</td>\n",
       "      <td>4</td>\n",
       "      <td>...</td>\n",
       "      <td>35.0000</td>\n",
       "      <td>105</td>\n",
       "      <td>0</td>\n",
       "      <td>NaN</td>\n",
       "      <td>NaN</td>\n",
       "      <td>NaN</td>\n",
       "      <td>1</td>\n",
       "      <td>CH</td>\n",
       "      <td>35.0000</td>\n",
       "      <td>105</td>\n",
       "    </tr>\n",
       "    <tr>\n",
       "      <th>186564</th>\n",
       "      <td>20160622</td>\n",
       "      <td>201606</td>\n",
       "      <td>2016</td>\n",
       "      <td>CHN</td>\n",
       "      <td>CHINA</td>\n",
       "      <td>CHN</td>\n",
       "      <td>NaN</td>\n",
       "      <td>NaN</td>\n",
       "      <td>NaN</td>\n",
       "      <td>4</td>\n",
       "      <td>...</td>\n",
       "      <td>35.0000</td>\n",
       "      <td>105</td>\n",
       "      <td>0</td>\n",
       "      <td>NaN</td>\n",
       "      <td>NaN</td>\n",
       "      <td>NaN</td>\n",
       "      <td>1</td>\n",
       "      <td>CH</td>\n",
       "      <td>35.0000</td>\n",
       "      <td>105</td>\n",
       "    </tr>\n",
       "  </tbody>\n",
       "</table>\n",
       "<p>5 rows × 25 columns</p>\n",
       "</div>"
      ],
      "text/plain": [
       "         SQLDATE  MonthYear  Year Actor1Code Actor1Name Actor1CountryCode  \\\n",
       "109570  20160728     201607  2016        CHN      CHINA               CHN   \n",
       "290941  20160303     201603  2016        CHN     CANTON               CHN   \n",
       "290942  20160303     201603  2016        CHN     CANTON               CHN   \n",
       "186563  20160622     201606  2016        CHN      CHINA               CHN   \n",
       "186564  20160622     201606  2016        CHN      CHINA               CHN   \n",
       "\n",
       "       Actor2Code     Actor2Name Actor2CountryCode  QuadClass  ...  \\\n",
       "109570        USA       LAWRENCE               USA          4  ...   \n",
       "290941        USA           OHIO               USA          3  ...   \n",
       "290942        USA  UNITED STATES               USA          3  ...   \n",
       "186563        NaN            NaN               NaN          4  ...   \n",
       "186564        NaN            NaN               NaN          4  ...   \n",
       "\n",
       "        Actor1Geo_Lat  Actor1Geo_Long  Actor2Geo_Type  Actor2Geo_CountryCode  \\\n",
       "109570        35.0000             105               1                     CH   \n",
       "290941        40.8167        -81.3665               3                     US   \n",
       "290942        40.8167        -81.3665               2                     US   \n",
       "186563        35.0000             105               0                    NaN   \n",
       "186564        35.0000             105               0                    NaN   \n",
       "\n",
       "       Actor2Geo_Lat  Actor2Geo_Long ActionGeo_Type  ActionGeo_CountryCode  \\\n",
       "109570       35.0000             105              1                     CH   \n",
       "290941       40.8167        -81.3665              3                     US   \n",
       "290942       40.3736        -82.7755              2                     US   \n",
       "186563           NaN             NaN              1                     CH   \n",
       "186564           NaN             NaN              1                     CH   \n",
       "\n",
       "       ActionGeo_Lat  ActionGeo_Long  \n",
       "109570       35.0000             105  \n",
       "290941       40.8167        -81.3665  \n",
       "290942       40.3736        -82.7755  \n",
       "186563       35.0000             105  \n",
       "186564       35.0000             105  \n",
       "\n",
       "[5 rows x 25 columns]"
      ]
     },
     "execution_count": 71,
     "metadata": {},
     "output_type": "execute_result"
    }
   ],
   "source": [
    "dask_feat[dask_feat.Actor1CountryCode == 'CHN'].nsmallest(10, \"AvgTone\").head()"
   ]
  },
  {
   "cell_type": "markdown",
   "metadata": {},
   "source": [
    "News Related to China (Actor1 is China) that has most strong positive tones:"
   ]
  },
  {
   "cell_type": "code",
   "execution_count": 75,
   "metadata": {},
   "outputs": [
    {
     "data": {
      "text/html": [
       "<div>\n",
       "<style scoped>\n",
       "    .dataframe tbody tr th:only-of-type {\n",
       "        vertical-align: middle;\n",
       "    }\n",
       "\n",
       "    .dataframe tbody tr th {\n",
       "        vertical-align: top;\n",
       "    }\n",
       "\n",
       "    .dataframe thead th {\n",
       "        text-align: right;\n",
       "    }\n",
       "</style>\n",
       "<table border=\"1\" class=\"dataframe\">\n",
       "  <thead>\n",
       "    <tr style=\"text-align: right;\">\n",
       "      <th></th>\n",
       "      <th>SQLDATE</th>\n",
       "      <th>MonthYear</th>\n",
       "      <th>Year</th>\n",
       "      <th>Actor1Code</th>\n",
       "      <th>Actor1Name</th>\n",
       "      <th>Actor1CountryCode</th>\n",
       "      <th>Actor2Code</th>\n",
       "      <th>Actor2Name</th>\n",
       "      <th>Actor2CountryCode</th>\n",
       "      <th>QuadClass</th>\n",
       "      <th>...</th>\n",
       "      <th>Actor1Geo_Lat</th>\n",
       "      <th>Actor1Geo_Long</th>\n",
       "      <th>Actor2Geo_Type</th>\n",
       "      <th>Actor2Geo_CountryCode</th>\n",
       "      <th>Actor2Geo_Lat</th>\n",
       "      <th>Actor2Geo_Long</th>\n",
       "      <th>ActionGeo_Type</th>\n",
       "      <th>ActionGeo_CountryCode</th>\n",
       "      <th>ActionGeo_Lat</th>\n",
       "      <th>ActionGeo_Long</th>\n",
       "    </tr>\n",
       "  </thead>\n",
       "  <tbody>\n",
       "    <tr>\n",
       "      <th>41394</th>\n",
       "      <td>20160523</td>\n",
       "      <td>201605</td>\n",
       "      <td>2016</td>\n",
       "      <td>CHN</td>\n",
       "      <td>CHINA</td>\n",
       "      <td>CHN</td>\n",
       "      <td>NaN</td>\n",
       "      <td>NaN</td>\n",
       "      <td>NaN</td>\n",
       "      <td>3</td>\n",
       "      <td>...</td>\n",
       "      <td>-10.0000</td>\n",
       "      <td>-55</td>\n",
       "      <td>0</td>\n",
       "      <td>NaN</td>\n",
       "      <td>NaN</td>\n",
       "      <td>NaN</td>\n",
       "      <td>1</td>\n",
       "      <td>BR</td>\n",
       "      <td>-10.0000</td>\n",
       "      <td>-55</td>\n",
       "    </tr>\n",
       "    <tr>\n",
       "      <th>281807</th>\n",
       "      <td>20161021</td>\n",
       "      <td>201610</td>\n",
       "      <td>2016</td>\n",
       "      <td>CHN</td>\n",
       "      <td>CHINA</td>\n",
       "      <td>CHN</td>\n",
       "      <td>NaN</td>\n",
       "      <td>NaN</td>\n",
       "      <td>NaN</td>\n",
       "      <td>1</td>\n",
       "      <td>...</td>\n",
       "      <td>22.1558</td>\n",
       "      <td>113.557</td>\n",
       "      <td>0</td>\n",
       "      <td>NaN</td>\n",
       "      <td>NaN</td>\n",
       "      <td>NaN</td>\n",
       "      <td>4</td>\n",
       "      <td>MC</td>\n",
       "      <td>22.1558</td>\n",
       "      <td>113.557</td>\n",
       "    </tr>\n",
       "    <tr>\n",
       "      <th>60624</th>\n",
       "      <td>20161206</td>\n",
       "      <td>201612</td>\n",
       "      <td>2016</td>\n",
       "      <td>CHN</td>\n",
       "      <td>CHINESE</td>\n",
       "      <td>CHN</td>\n",
       "      <td>UZB</td>\n",
       "      <td>UZBEK</td>\n",
       "      <td>UZB</td>\n",
       "      <td>1</td>\n",
       "      <td>...</td>\n",
       "      <td>41.0000</td>\n",
       "      <td>64</td>\n",
       "      <td>1</td>\n",
       "      <td>CH</td>\n",
       "      <td>35.0</td>\n",
       "      <td>105</td>\n",
       "      <td>1</td>\n",
       "      <td>CH</td>\n",
       "      <td>35.0000</td>\n",
       "      <td>105</td>\n",
       "    </tr>\n",
       "    <tr>\n",
       "      <th>60625</th>\n",
       "      <td>20161206</td>\n",
       "      <td>201612</td>\n",
       "      <td>2016</td>\n",
       "      <td>CHN</td>\n",
       "      <td>CHINESE</td>\n",
       "      <td>CHN</td>\n",
       "      <td>UZB</td>\n",
       "      <td>UZBEKISTAN</td>\n",
       "      <td>UZB</td>\n",
       "      <td>1</td>\n",
       "      <td>...</td>\n",
       "      <td>41.0000</td>\n",
       "      <td>64</td>\n",
       "      <td>1</td>\n",
       "      <td>CH</td>\n",
       "      <td>35.0</td>\n",
       "      <td>105</td>\n",
       "      <td>1</td>\n",
       "      <td>UZ</td>\n",
       "      <td>41.0000</td>\n",
       "      <td>64</td>\n",
       "    </tr>\n",
       "    <tr>\n",
       "      <th>60633</th>\n",
       "      <td>20161206</td>\n",
       "      <td>201612</td>\n",
       "      <td>2016</td>\n",
       "      <td>CHNGOV</td>\n",
       "      <td>CHINA</td>\n",
       "      <td>CHN</td>\n",
       "      <td>UZB</td>\n",
       "      <td>UZBEKISTAN</td>\n",
       "      <td>UZB</td>\n",
       "      <td>1</td>\n",
       "      <td>...</td>\n",
       "      <td>40.5000</td>\n",
       "      <td>47.5</td>\n",
       "      <td>1</td>\n",
       "      <td>UZ</td>\n",
       "      <td>41.0</td>\n",
       "      <td>64</td>\n",
       "      <td>1</td>\n",
       "      <td>UZ</td>\n",
       "      <td>41.0000</td>\n",
       "      <td>64</td>\n",
       "    </tr>\n",
       "  </tbody>\n",
       "</table>\n",
       "<p>5 rows × 25 columns</p>\n",
       "</div>"
      ],
      "text/plain": [
       "         SQLDATE  MonthYear  Year Actor1Code Actor1Name Actor1CountryCode  \\\n",
       "41394   20160523     201605  2016        CHN      CHINA               CHN   \n",
       "281807  20161021     201610  2016        CHN      CHINA               CHN   \n",
       "60624   20161206     201612  2016        CHN    CHINESE               CHN   \n",
       "60625   20161206     201612  2016        CHN    CHINESE               CHN   \n",
       "60633   20161206     201612  2016     CHNGOV      CHINA               CHN   \n",
       "\n",
       "       Actor2Code  Actor2Name Actor2CountryCode  QuadClass  ...  \\\n",
       "41394         NaN         NaN               NaN          3  ...   \n",
       "281807        NaN         NaN               NaN          1  ...   \n",
       "60624         UZB       UZBEK               UZB          1  ...   \n",
       "60625         UZB  UZBEKISTAN               UZB          1  ...   \n",
       "60633         UZB  UZBEKISTAN               UZB          1  ...   \n",
       "\n",
       "        Actor1Geo_Lat  Actor1Geo_Long  Actor2Geo_Type  Actor2Geo_CountryCode  \\\n",
       "41394        -10.0000             -55               0                    NaN   \n",
       "281807        22.1558         113.557               0                    NaN   \n",
       "60624         41.0000              64               1                     CH   \n",
       "60625         41.0000              64               1                     CH   \n",
       "60633         40.5000            47.5               1                     UZ   \n",
       "\n",
       "       Actor2Geo_Lat  Actor2Geo_Long ActionGeo_Type  ActionGeo_CountryCode  \\\n",
       "41394            NaN             NaN              1                     BR   \n",
       "281807           NaN             NaN              4                     MC   \n",
       "60624           35.0             105              1                     CH   \n",
       "60625           35.0             105              1                     UZ   \n",
       "60633           41.0              64              1                     UZ   \n",
       "\n",
       "       ActionGeo_Lat  ActionGeo_Long  \n",
       "41394       -10.0000             -55  \n",
       "281807       22.1558         113.557  \n",
       "60624        35.0000             105  \n",
       "60625        41.0000              64  \n",
       "60633        41.0000              64  \n",
       "\n",
       "[5 rows x 25 columns]"
      ]
     },
     "execution_count": 75,
     "metadata": {},
     "output_type": "execute_result"
    }
   ],
   "source": [
    "dask_feat[dask_feat.Actor1CountryCode == 'CHN'].nlargest(10, \"AvgTone\").head()"
   ]
  },
  {
   "cell_type": "markdown",
   "metadata": {},
   "source": [
    "Mean of average tones for News Related to US (Actor1 is US):"
   ]
  },
  {
   "cell_type": "code",
   "execution_count": 67,
   "metadata": {},
   "outputs": [
    {
     "data": {
      "text/plain": [
       "-1.8745312234584668"
      ]
     },
     "execution_count": 67,
     "metadata": {},
     "output_type": "execute_result"
    }
   ],
   "source": [
    "dask_feat[dask_feat.Actor1CountryCode == 'USA'].AvgTone.mean().compute()"
   ]
  },
  {
   "cell_type": "markdown",
   "metadata": {},
   "source": [
    "Mean of average tones for News Related to US (Actor2 is US):"
   ]
  },
  {
   "cell_type": "code",
   "execution_count": 68,
   "metadata": {},
   "outputs": [
    {
     "data": {
      "text/plain": [
       "-1.9339521799661827"
      ]
     },
     "execution_count": 68,
     "metadata": {},
     "output_type": "execute_result"
    }
   ],
   "source": [
    "dask_feat[dask_feat.Actor2CountryCode == 'USA'].AvgTone.mean().compute()"
   ]
  },
  {
   "cell_type": "markdown",
   "metadata": {},
   "source": [
    "### News Related to Certain Topics"
   ]
  },
  {
   "cell_type": "markdown",
   "metadata": {},
   "source": [
    "#### Topic 1: Donald Trump"
   ]
  },
  {
   "cell_type": "code",
   "execution_count": 63,
   "metadata": {},
   "outputs": [],
   "source": [
    "trump_news = df_feat[df_feat.SOURCEURL.like(\"%Trump%\") == \"true\"]"
   ]
  },
  {
   "cell_type": "code",
   "execution_count": 72,
   "metadata": {},
   "outputs": [],
   "source": [
    "trump_news = trump_news.withColumn(\"AvgTone\", trump_news[\"AvgTone\"].cast(\"double\"))"
   ]
  },
  {
   "cell_type": "code",
   "execution_count": 74,
   "metadata": {},
   "outputs": [],
   "source": [
    "from pyspark.sql.functions import mean as _mean, stddev as _stddev, col\n",
    "\n",
    "trump_stats = trump_news.select(\n",
    "    _mean(col('AvgTone')).alias('mean'),\n",
    "    _stddev(col('AvgTone')).alias('std')\n",
    ").collect()"
   ]
  },
  {
   "cell_type": "code",
   "execution_count": 77,
   "metadata": {},
   "outputs": [
    {
     "name": "stdout",
     "output_type": "stream",
     "text": [
      "-1.9007160050075336\n"
     ]
    }
   ],
   "source": [
    "trump_mean = trump_stats[0]['mean']\n",
    "print(mean)"
   ]
  },
  {
   "cell_type": "code",
   "execution_count": 79,
   "metadata": {},
   "outputs": [
    {
     "name": "stdout",
     "output_type": "stream",
     "text": [
      "2.5248252621711833\n"
     ]
    }
   ],
   "source": [
    "trump_std = trump_stats[0]['std']\n",
    "print(std)"
   ]
  },
  {
   "cell_type": "markdown",
   "metadata": {},
   "source": [
    "#### Topic 2: Xi Jinping"
   ]
  },
  {
   "cell_type": "code",
   "execution_count": 80,
   "metadata": {},
   "outputs": [],
   "source": [
    "xjp_news = df_feat[df_feat.SOURCEURL.like(\"%Jinping%\") == \"true\"]"
   ]
  },
  {
   "cell_type": "code",
   "execution_count": 81,
   "metadata": {},
   "outputs": [],
   "source": [
    "xjp_news = xjp_news.withColumn(\"AvgTone\", xjp_news[\"AvgTone\"].cast(\"double\"))"
   ]
  },
  {
   "cell_type": "code",
   "execution_count": 82,
   "metadata": {},
   "outputs": [],
   "source": [
    "xjp_stats = xjp_news.select(\n",
    "    _mean(col('AvgTone')).alias('mean'),\n",
    "    _stddev(col('AvgTone')).alias('std')\n",
    ").collect()"
   ]
  },
  {
   "cell_type": "code",
   "execution_count": 83,
   "metadata": {},
   "outputs": [
    {
     "name": "stdout",
     "output_type": "stream",
     "text": [
      "1.0019052240185844\n"
     ]
    }
   ],
   "source": [
    "xjp_mean = xjp_stats[0]['mean']\n",
    "print(xjp_mean)"
   ]
  },
  {
   "cell_type": "code",
   "execution_count": 84,
   "metadata": {},
   "outputs": [
    {
     "name": "stdout",
     "output_type": "stream",
     "text": [
      "3.246660639621753\n"
     ]
    }
   ],
   "source": [
    "xjp_std = xjp_stats[0]['std']\n",
    "print(xjp_std)"
   ]
  },
  {
   "cell_type": "markdown",
   "metadata": {},
   "source": [
    "### Visualizations"
   ]
  },
  {
   "cell_type": "code",
   "execution_count": 51,
   "metadata": {},
   "outputs": [],
   "source": [
    "import matplotlib.pyplot as plt"
   ]
  },
  {
   "cell_type": "code",
   "execution_count": 57,
   "metadata": {},
   "outputs": [
    {
     "data": {
      "image/png": "[encoded data removed]",
      "text/plain": [
       "<Figure size 720x576 with 1 Axes>"
      ]
     },
     "metadata": {
      "needs_background": "light"
     },
     "output_type": "display_data"
    }
   ],
   "source": [
    "import matplotlib.pyplot as plt\n",
    "##Visualizing most reviewed businesses through Barplot\n",
    "most_extreme_tone \\\n",
    ".plot(kind='barh',stacked=False, figsize=[10,8], legend=False)\n",
    "######\n",
    "plt.title('Most Extreme News (Positive Tone)')\n",
    "plt.xlabel('Avg Tone')\n",
    "plt.ylabel('News ID')\n",
    "plt.show()"
   ]
  },
  {
   "cell_type": "code",
   "execution_count": null,
   "metadata": {},
   "outputs": [],
   "source": [
    "###Arranging cities with decreasing business counts\n",
    "city_business_counts_dask = df[['city', 'business_id']].groupby(['city'])['business_id'].agg('count')\n",
    "##Visualizing top 20 cites by businesses listed\n",
    "city_business_counts_dask.nlargest(20).compute().\\\n",
    "plot(kind='barh', stacked=False, figsize=[10,10], colormap='hsv')"
   ]
  },
  {
   "cell_type": "code",
   "execution_count": 22,
   "metadata": {},
   "outputs": [],
   "source": [
    "# mydf.write.save(\"s3://zandras3/502final/news.csv\", format='csv', header=True)\n",
    "# dask_df = dd.read_csv('s3://zandras3/502final/news.csv/*.csv')\n",
    "# dask_df\n",
    "\n",
    "# from pandas.io.common import EmptyDataError\n",
    "\n",
    "# file = 's3://zandras3/502final/news.csv'\n",
    "\n",
    "# def read_data(file):\n",
    "#     try:\n",
    "#         df = pd.read_csv(file, delim_whitespace=True)\n",
    "#         print(\"yes\")\n",
    "#     except EmptyDataError:\n",
    "#         df = pd.DataFrame()\n",
    "#         print(\"no\")\n",
    "\n",
    "# #     return df"
   ]
  },
  {
   "cell_type": "code",
   "execution_count": 62,
   "metadata": {},
   "outputs": [],
   "source": [
    "import sys\n",
    "import os,datetime, re\n",
    "from pyspark.sql import Row"
   ]
  },
  {
   "cell_type": "code",
   "execution_count": null,
   "metadata": {},
   "outputs": [],
   "source": []
  },
  {
   "cell_type": "code",
   "execution_count": null,
   "metadata": {},
   "outputs": [],
   "source": []
  }
 ],
 "metadata": {
  "kernelspec": {
   "display_name": "Python 3",
   "language": "python",
   "name": "python3"
  },
  "language_info": {
   "codemirror_mode": {
    "name": "ipython",
    "version": 3
   },
   "file_extension": ".py",
   "mimetype": "text/x-python",
   "name": "python",
   "nbconvert_exporter": "python",
   "pygments_lexer": "ipython3",
   "version": "3.7.6"
  }
 },
 "nbformat": 4,
 "nbformat_minor": 4
}

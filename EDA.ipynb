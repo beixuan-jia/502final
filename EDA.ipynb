{
 "cells": [
  {
   "cell_type": "code",
   "execution_count": 1,
   "metadata": {},
   "outputs": [],
   "source": [
    "import findspark\n",
    "findspark.init()\n",
    "from pyspark.sql import SparkSession"
   ]
  },
  {
   "cell_type": "code",
   "execution_count": 2,
   "metadata": {},
   "outputs": [],
   "source": [
    "spark = SparkSession.builder.getOrCreate()"
   ]
  },
  {
   "cell_type": "code",
   "execution_count": 3,
   "metadata": {},
   "outputs": [
    {
     "data": {
      "text/html": [
       "\n",
       "            <div>\n",
       "                <p><b>SparkSession - in-memory</b></p>\n",
       "                \n",
       "        <div>\n",
       "            <p><b>SparkContext</b></p>\n",
       "\n",
       "            <p><a href=\"http://ip-172-31-56-83.ec2.internal:4042\">Spark UI</a></p>\n",
       "\n",
       "            <dl>\n",
       "              <dt>Version</dt>\n",
       "                <dd><code>v2.4.4</code></dd>\n",
       "              <dt>Master</dt>\n",
       "                <dd><code>yarn</code></dd>\n",
       "              <dt>AppName</dt>\n",
       "                <dd><code>pyspark-shell</code></dd>\n",
       "            </dl>\n",
       "        </div>\n",
       "        \n",
       "            </div>\n",
       "        "
      ],
      "text/plain": [
       "<pyspark.sql.session.SparkSession at 0x7f8686daced0>"
      ]
     },
     "execution_count": 3,
     "metadata": {},
     "output_type": "execute_result"
    }
   ],
   "source": [
    "spark"
   ]
  },
  {
   "cell_type": "code",
   "execution_count": 4,
   "metadata": {},
   "outputs": [],
   "source": [
    "mydf = spark.read.parquet(\"s3://zandras3/502final/df.parquet/*\")"
   ]
  },
  {
   "cell_type": "code",
   "execution_count": 5,
   "metadata": {},
   "outputs": [
    {
     "name": "stdout",
     "output_type": "stream",
     "text": [
      "root\n",
      " |-- GLOBALEVENTID: string (nullable = true)\n",
      " |-- SQLDATE: string (nullable = true)\n",
      " |-- MonthYear: string (nullable = true)\n",
      " |-- Year: string (nullable = true)\n",
      " |-- FractionDate: string (nullable = true)\n",
      " |-- Actor1Code: string (nullable = true)\n",
      " |-- Actor1Name: string (nullable = true)\n",
      " |-- Actor1CountryCode: string (nullable = true)\n",
      " |-- Actor1KnownGroupCode: string (nullable = true)\n",
      " |-- Actor1EthnicCode: string (nullable = true)\n",
      " |-- Actor1Religion1Code: string (nullable = true)\n",
      " |-- Actor1Religion2Code: string (nullable = true)\n",
      " |-- Actor1Type1Code: string (nullable = true)\n",
      " |-- Actor1Type2Code: string (nullable = true)\n",
      " |-- Actor1Type3Code: string (nullable = true)\n",
      " |-- Actor2Code: string (nullable = true)\n",
      " |-- Actor2Name: string (nullable = true)\n",
      " |-- Actor2CountryCode: string (nullable = true)\n",
      " |-- Actor2KnownGroupCode: string (nullable = true)\n",
      " |-- Actor2EthnicCode: string (nullable = true)\n",
      " |-- Actor2Religion1Code: string (nullable = true)\n",
      " |-- Actor2Religion2Code: string (nullable = true)\n",
      " |-- Actor2Type1Code: string (nullable = true)\n",
      " |-- Actor2Type2Code: string (nullable = true)\n",
      " |-- Actor2Type3Code: string (nullable = true)\n",
      " |-- IsRootEvent: string (nullable = true)\n",
      " |-- EventCode: string (nullable = true)\n",
      " |-- EventBaseCode: string (nullable = true)\n",
      " |-- EventRootCode: string (nullable = true)\n",
      " |-- QuadClass: string (nullable = true)\n",
      " |-- GoldsteinScale: string (nullable = true)\n",
      " |-- NumMentions: string (nullable = true)\n",
      " |-- NumSources: string (nullable = true)\n",
      " |-- NumArticles: string (nullable = true)\n",
      " |-- AvgTone: string (nullable = true)\n",
      " |-- Actor1Geo_Type: string (nullable = true)\n",
      " |-- Actor1Geo_FullName: string (nullable = true)\n",
      " |-- Actor1Geo_CountryCode: string (nullable = true)\n",
      " |-- Actor1Geo_ADM1Code: string (nullable = true)\n",
      " |-- Actor1Geo_Lat: string (nullable = true)\n",
      " |-- Actor1Geo_Long: string (nullable = true)\n",
      " |-- Actor1Geo_FeatureID: string (nullable = true)\n",
      " |-- Actor2Geo_Type: string (nullable = true)\n",
      " |-- Actor2Geo_FullName: string (nullable = true)\n",
      " |-- Actor2Geo_CountryCode: string (nullable = true)\n",
      " |-- Actor2Geo_ADM1Code: string (nullable = true)\n",
      " |-- Actor2Geo_Lat: string (nullable = true)\n",
      " |-- Actor2Geo_Long: string (nullable = true)\n",
      " |-- Actor2Geo_FeatureID: string (nullable = true)\n",
      " |-- ActionGeo_Type: string (nullable = true)\n",
      " |-- ActionGeo_FullName: string (nullable = true)\n",
      " |-- ActionGeo_CountryCode: string (nullable = true)\n",
      " |-- ActionGeo_ADM1Code: string (nullable = true)\n",
      " |-- ActionGeo_Lat: string (nullable = true)\n",
      " |-- ActionGeo_Long: string (nullable = true)\n",
      " |-- ActionGeo_FeatureID: string (nullable = true)\n",
      " |-- DATEADDED: string (nullable = true)\n",
      " |-- SOURCEURL: string (nullable = true)\n",
      "\n"
     ]
    }
   ],
   "source": [
    "mydf.printSchema()"
   ]
  },
  {
   "cell_type": "code",
   "execution_count": 6,
   "metadata": {},
   "outputs": [
    {
     "name": "stdout",
     "output_type": "stream",
     "text": [
      "+-------------+--------+---------+----+------------+----------+----------+-----------------+--------------------+----------------+-------------------+-------------------+---------------+---------------+---------------+----------+------------+-----------------+--------------------+----------------+-------------------+-------------------+---------------+---------------+---------------+-----------+---------+-------------+-------------+---------+--------------+-----------+----------+-----------+-----------------+--------------+------------------+---------------------+------------------+-------------+--------------+-------------------+--------------+--------------------+---------------------+------------------+-------------+--------------+-------------------+--------------+--------------------+---------------------+------------------+-------------+--------------+-------------------+---------+--------------------+\n",
      "|GLOBALEVENTID| SQLDATE|MonthYear|Year|FractionDate|Actor1Code|Actor1Name|Actor1CountryCode|Actor1KnownGroupCode|Actor1EthnicCode|Actor1Religion1Code|Actor1Religion2Code|Actor1Type1Code|Actor1Type2Code|Actor1Type3Code|Actor2Code|  Actor2Name|Actor2CountryCode|Actor2KnownGroupCode|Actor2EthnicCode|Actor2Religion1Code|Actor2Religion2Code|Actor2Type1Code|Actor2Type2Code|Actor2Type3Code|IsRootEvent|EventCode|EventBaseCode|EventRootCode|QuadClass|GoldsteinScale|NumMentions|NumSources|NumArticles|          AvgTone|Actor1Geo_Type|Actor1Geo_FullName|Actor1Geo_CountryCode|Actor1Geo_ADM1Code|Actor1Geo_Lat|Actor1Geo_Long|Actor1Geo_FeatureID|Actor2Geo_Type|  Actor2Geo_FullName|Actor2Geo_CountryCode|Actor2Geo_ADM1Code|Actor2Geo_Lat|Actor2Geo_Long|Actor2Geo_FeatureID|ActionGeo_Type|  ActionGeo_FullName|ActionGeo_CountryCode|ActionGeo_ADM1Code|ActionGeo_Lat|ActionGeo_Long|ActionGeo_FeatureID|DATEADDED|           SOURCEURL|\n",
      "+-------------+--------+---------+----+------------+----------+----------+-----------------+--------------------+----------------+-------------------+-------------------+---------------+---------------+---------------+----------+------------+-----------------+--------------------+----------------+-------------------+-------------------+---------------+---------------+---------------+-----------+---------+-------------+-------------+---------+--------------+-----------+----------+-----------+-----------------+--------------+------------------+---------------------+------------------+-------------+--------------+-------------------+--------------+--------------------+---------------------+------------------+-------------+--------------+-------------------+--------------+--------------------+---------------------+------------------+-------------+--------------+-------------------+---------+--------------------+\n",
      "|    611051912|20151224|   201512|2015|   2015.9699|          |          |                 |                    |                |                   |                   |               |               |               |       BUS|    BUSINESS|                 |                    |                |                   |                   |            BUS|               |               |          1|      042|          042|           04|        1|           1.9|         10|         1|         10| 0.70257611241218|             0|                  |                     |                  |             |              |                   |             4|Tanjung, Pahang, ...|                   MY|              MY06|      3.81667|       103.342|              94819|             4|Tanjung, Pahang, ...|                   MY|              MY06|      3.81667|       103.342|              94819| 20161223|http://www.thesta...|\n",
      "|    611051913|20151224|   201512|2015|   2015.9699|          |          |                 |                    |                |                   |                   |               |               |               |       GOV|     EMPEROR|                 |                    |                |                   |                   |            GOV|               |               |          0|      010|          010|           01|        1|           0.0|          6|         1|          6|-0.73937153419593|             0|                  |                     |                  |             |              |                   |             4| Tokyo, Tokyo, Japan|                   JA|              JA40|       35.685|       139.751|            -246227|             5| Iwate, Iwate, Japan|                   JA|              JA16|       39.596|        141.36|            -231099| 20161223|http://asia.nikke...|\n",
      "|    611051914|20151224|   201512|2015|   2015.9699|          |          |                 |                    |                |                   |                   |               |               |               |       GOV|     EMPEROR|                 |                    |                |                   |                   |            GOV|               |               |          0|      010|          010|           01|        1|           0.0|          2|         1|          2|-0.73937153419593|             0|                  |                     |                  |             |              |                   |             1|            Thailand|                   TH|                TH|           15|           100|                 TH|             4| Tokyo, Tokyo, Japan|                   JA|              JA40|       35.685|       139.751|            -246227| 20161223|http://asia.nikke...|\n",
      "|    611051915|20151224|   201512|2015|   2015.9699|          |          |                 |                    |                |                   |                   |               |               |               |       GOV|     EMPEROR|                 |                    |                |                   |                   |            GOV|               |               |          0|      042|          042|           04|        1|           1.9|          2|         1|          2|-0.73937153419593|             0|                  |                     |                  |             |              |                   |             1|            Thailand|                   TH|                TH|           15|           100|                 TH|             1|            Thailand|                   TH|                TH|           15|           100|                 TH| 20161223|http://asia.nikke...|\n",
      "|    611051916|20151224|   201512|2015|   2015.9699|          |          |                 |                    |                |                   |                   |               |               |               |       MYS|KUALA LUMPUR|              MYS|                    |                |                   |                   |               |               |               |          1|      043|          043|           04|        1|           2.8|          2|         1|          2| 0.70257611241218|             0|                  |                     |                  |             |              |                   |             4|Kuala Lumpur, Kua...|                   MY|              MY14|      3.16667|         101.7|           -2403010|             4|Tanjung, Pahang, ...|                   MY|              MY06|      3.81667|       103.342|              94819| 20161223|http://www.thesta...|\n",
      "+-------------+--------+---------+----+------------+----------+----------+-----------------+--------------------+----------------+-------------------+-------------------+---------------+---------------+---------------+----------+------------+-----------------+--------------------+----------------+-------------------+-------------------+---------------+---------------+---------------+-----------+---------+-------------+-------------+---------+--------------+-----------+----------+-----------+-----------------+--------------+------------------+---------------------+------------------+-------------+--------------+-------------------+--------------+--------------------+---------------------+------------------+-------------+--------------+-------------------+--------------+--------------------+---------------------+------------------+-------------+--------------+-------------------+---------+--------------------+\n",
      "only showing top 5 rows\n",
      "\n"
     ]
    }
   ],
   "source": [
    "mydf.show(5)"
   ]
  },
  {
   "cell_type": "code",
   "execution_count": 7,
   "metadata": {},
   "outputs": [],
   "source": [
    "df_feat = mydf.select(mydf.SQLDATE, mydf.MonthYear, mydf.Year, \n",
    "                      mydf.Actor2Code, mydf.Actor2Name, mydf.Actor2CountryCode, \n",
    "                      mydf.QuadClass, mydf.GoldsteinScale, mydf.NumSources, \n",
    "                      mydf.AvgTone, mydf.Actor1Geo_Type, mydf.Actor1Geo_CountryCode,\n",
    "                     mydf.Actor1Geo_Lat, mydf.Actor1Geo_Long, mydf.Actor2Geo_Type, \n",
    "                      mydf.Actor2Geo_CountryCode, mydf.Actor2Geo_Lat, mydf.Actor2Geo_Long,\n",
    "                     mydf.ActionGeo_Type, mydf.ActionGeo_CountryCode,\n",
    "                     mydf.ActionGeo_Lat, mydf.ActionGeo_Long)"
   ]
  },
  {
   "cell_type": "code",
   "execution_count": 8,
   "metadata": {},
   "outputs": [
    {
     "name": "stdout",
     "output_type": "stream",
     "text": [
      "root\n",
      " |-- SQLDATE: string (nullable = true)\n",
      " |-- MonthYear: string (nullable = true)\n",
      " |-- Year: string (nullable = true)\n",
      " |-- Actor2Code: string (nullable = true)\n",
      " |-- Actor2Name: string (nullable = true)\n",
      " |-- Actor2CountryCode: string (nullable = true)\n",
      " |-- QuadClass: string (nullable = true)\n",
      " |-- GoldsteinScale: string (nullable = true)\n",
      " |-- NumSources: string (nullable = true)\n",
      " |-- AvgTone: string (nullable = true)\n",
      " |-- Actor1Geo_Type: string (nullable = true)\n",
      " |-- Actor1Geo_CountryCode: string (nullable = true)\n",
      " |-- Actor1Geo_Lat: string (nullable = true)\n",
      " |-- Actor1Geo_Long: string (nullable = true)\n",
      " |-- Actor2Geo_Type: string (nullable = true)\n",
      " |-- Actor2Geo_CountryCode: string (nullable = true)\n",
      " |-- Actor2Geo_Lat: string (nullable = true)\n",
      " |-- Actor2Geo_Long: string (nullable = true)\n",
      " |-- ActionGeo_Type: string (nullable = true)\n",
      " |-- ActionGeo_CountryCode: string (nullable = true)\n",
      " |-- ActionGeo_Lat: string (nullable = true)\n",
      " |-- ActionGeo_Long: string (nullable = true)\n",
      "\n"
     ]
    }
   ],
   "source": [
    "df_feat.printSchema()"
   ]
  },
  {
   "cell_type": "code",
   "execution_count": 9,
   "metadata": {},
   "outputs": [
    {
     "name": "stdout",
     "output_type": "stream",
     "text": [
      "+--------+---------+----+----------+------------+-----------------+---------+--------------+----------+-----------------+--------------+---------------------+-------------+--------------+--------------+---------------------+-------------+--------------+--------------+---------------------+-------------+--------------+\n",
      "| SQLDATE|MonthYear|Year|Actor2Code|  Actor2Name|Actor2CountryCode|QuadClass|GoldsteinScale|NumSources|          AvgTone|Actor1Geo_Type|Actor1Geo_CountryCode|Actor1Geo_Lat|Actor1Geo_Long|Actor2Geo_Type|Actor2Geo_CountryCode|Actor2Geo_Lat|Actor2Geo_Long|ActionGeo_Type|ActionGeo_CountryCode|ActionGeo_Lat|ActionGeo_Long|\n",
      "+--------+---------+----+----------+------------+-----------------+---------+--------------+----------+-----------------+--------------+---------------------+-------------+--------------+--------------+---------------------+-------------+--------------+--------------+---------------------+-------------+--------------+\n",
      "|20151224|   201512|2015|       BUS|    BUSINESS|                 |        1|           1.9|         1| 0.70257611241218|             0|                     |             |              |             4|                   MY|      3.81667|       103.342|             4|                   MY|      3.81667|       103.342|\n",
      "|20151224|   201512|2015|       GOV|     EMPEROR|                 |        1|           0.0|         1|-0.73937153419593|             0|                     |             |              |             4|                   JA|       35.685|       139.751|             5|                   JA|       39.596|        141.36|\n",
      "|20151224|   201512|2015|       GOV|     EMPEROR|                 |        1|           0.0|         1|-0.73937153419593|             0|                     |             |              |             1|                   TH|           15|           100|             4|                   JA|       35.685|       139.751|\n",
      "|20151224|   201512|2015|       GOV|     EMPEROR|                 |        1|           1.9|         1|-0.73937153419593|             0|                     |             |              |             1|                   TH|           15|           100|             1|                   TH|           15|           100|\n",
      "|20151224|   201512|2015|       MYS|KUALA LUMPUR|              MYS|        1|           2.8|         1| 0.70257611241218|             0|                     |             |              |             4|                   MY|      3.16667|         101.7|             4|                   MY|      3.81667|       103.342|\n",
      "|20151224|   201512|2015|       VNM|     VIETNAM|              VNM|        1|           4.0|         1|-0.73937153419593|             0|                     |             |              |             4|                   JA|       35.685|       139.751|             4|                   JA|       35.685|       139.751|\n",
      "|20151224|   201512|2015|          |            |                 |        1|           2.8|         1| 0.70257611241218|             4|                   MY|      3.16667|         101.7|             0|                     |             |              |             4|                   MY|      3.16667|         101.7|\n",
      "|20151224|   201512|2015|          |            |                 |        4|          -5.0|         1|-2.13114754098361|             4|                   KS|      37.6501|        127.77|             0|                     |             |              |             4|                   KS|      37.6501|        127.77|\n",
      "|20151224|   201512|2015|       KOR| SOUTH KOREA|              KOR|        4|          -5.0|         1|-2.13114754098361|             4|                   KS|      37.6501|        127.77|             4|                   KS|      37.6501|        127.77|             4|                   KS|      37.6501|        127.77|\n",
      "|20151224|   201512|2015|    MNCKOR|     SAMSUNG|              KOR|        4|          -5.0|         1|-2.13114754098361|             4|                   KS|      37.6501|        127.77|             4|                   KS|      37.6501|        127.77|             4|                   KS|      37.6501|        127.77|\n",
      "|20151224|   201512|2015|       CHR|   CHRISTIAN|                 |        1|           0.0|        18|-3.47394540942928|             4|                   IT|         41.9|       12.4833|             4|                   IT|         41.9|       12.4833|             4|                   IT|         41.9|       12.4833|\n",
      "|20151224|   201512|2015|       USA|   LAS VEGAS|              USA|        1|           0.0|        96|-7.40210103503494|             0|                     |             |              |             0|                     |             |              |             0|                     |             |              |\n",
      "|20151224|   201512|2015|          |            |                 |        3|          -7.0|        13|-6.59469154203185|             4|                   GM|      52.5167|          13.4|             0|                     |             |              |             1|                   TS|           34|             9|\n",
      "|20151224|   201512|2015|       USA|     WYOMING|              USA|        3|          -4.0|        17|-2.22928472610392|             2|                   US|      42.7475|      -107.209|             2|                   US|      42.7475|      -107.209|             2|                   US|      42.7475|      -107.209|\n",
      "|20151224|   201512|2015|          |            |                 |        1|           4.0|         1|  3.3175355450237|             4|                   UK|         51.5|     -0.116667|             0|                     |             |              |             4|                   UK|      51.5333|     -0.083333|\n",
      "+--------+---------+----+----------+------------+-----------------+---------+--------------+----------+-----------------+--------------+---------------------+-------------+--------------+--------------+---------------------+-------------+--------------+--------------+---------------------+-------------+--------------+\n",
      "only showing top 15 rows\n",
      "\n"
     ]
    }
   ],
   "source": [
    "df_feat.show(15)"
   ]
  },
  {
   "cell_type": "code",
   "execution_count": 10,
   "metadata": {},
   "outputs": [],
   "source": [
    "from pyspark.sql.functions import avg"
   ]
  },
  {
   "cell_type": "code",
   "execution_count": 13,
   "metadata": {},
   "outputs": [],
   "source": [
    "tone = df_feat.select(\"Year\",\"AvgTone\").groupBy(\"Year\").agg(avg(\"AvgTone\"))"
   ]
  },
  {
   "cell_type": "code",
   "execution_count": 14,
   "metadata": {},
   "outputs": [
    {
     "data": {
      "text/plain": [
       "[Row(Year='2016', avg(AvgTone)=-2.092142628981268),\n",
       " Row(Year='2006', avg(AvgTone)=-1.5654240261469206),\n",
       " Row(Year='2007', avg(AvgTone)=-1.4407238930749484),\n",
       " Row(Year='2015', avg(AvgTone)=-2.121795877376201)]"
      ]
     },
     "execution_count": 14,
     "metadata": {},
     "output_type": "execute_result"
    }
   ],
   "source": [
    "tone.head(10)"
   ]
  },
  {
   "cell_type": "code",
   "execution_count": null,
   "metadata": {},
   "outputs": [],
   "source": [
    "tones_pd = tone.toPandas()"
   ]
  },
  {
   "cell_type": "code",
   "execution_count": null,
   "metadata": {},
   "outputs": [],
   "source": [
    "tones_pd"
   ]
  },
  {
   "cell_type": "code",
   "execution_count": 16,
   "metadata": {},
   "outputs": [],
   "source": [
    "# df_feat = df_feat.withColumn(\"AvgTone\", df_feat[\"AvgTone\"].cast(\"double\"))"
   ]
  },
  {
   "cell_type": "code",
   "execution_count": 18,
   "metadata": {},
   "outputs": [],
   "source": [
    "import dask\n",
    "import dask.dataframe as dd"
   ]
  },
  {
   "cell_type": "code",
   "execution_count": 22,
   "metadata": {},
   "outputs": [],
   "source": [
    "mydf.write.save(\"s3://zandras3/502final/news.csv\", format='csv', header=True)"
   ]
  },
  {
   "cell_type": "code",
   "execution_count": null,
   "metadata": {},
   "outputs": [],
   "source": []
  }
 ],
 "metadata": {
  "kernelspec": {
   "display_name": "Python 3",
   "language": "python",
   "name": "python3"
  },
  "language_info": {
   "codemirror_mode": {
    "name": "ipython",
    "version": 3
   },
   "file_extension": ".py",
   "mimetype": "text/x-python",
   "name": "python",
   "nbconvert_exporter": "python",
   "pygments_lexer": "ipython3",
   "version": "3.7.6"
  }
 },
 "nbformat": 4,
 "nbformat_minor": 4
}
